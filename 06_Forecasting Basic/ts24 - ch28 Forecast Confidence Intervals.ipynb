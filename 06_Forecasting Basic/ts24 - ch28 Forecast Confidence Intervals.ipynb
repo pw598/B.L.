{
 "cells": [
  {
   "cell_type": "code",
   "execution_count": 1,
   "metadata": {},
   "outputs": [
    {
     "name": "stdout",
     "output_type": "stream",
     "text": [
      "Expected: 45.149\n",
      "Forecast: 50.000\n",
      "Standard Error: 7.009\n",
      "95% Interval: 31.413 to 58.886\n"
     ]
    }
   ],
   "source": [
    "# summarize the confidence interval on an ARIMA forecast\n",
    "\n",
    "from pandas import read_csv\n",
    "from statsmodels.tsa.arima.model import ARIMA\n",
    "\n",
    "# load dataset\n",
    "series = read_csv('daily-total-female-births.csv', header=0, index_col=0, parse_dates=True, squeeze=True)\n",
    "\n",
    "# split into train and test sets\n",
    "X = series.values\n",
    "X = X.astype('float32')\n",
    "size = len(X) - 1\n",
    "train, test = X[0:size], X[size:]\n",
    "\n",
    "# fit an ARIMA model\n",
    "model = ARIMA(train, order=(5,1,1))\n",
    "model_fit = model.fit()\n",
    "\n",
    "# forecast\n",
    "result = model_fit.get_forecast()\n",
    "\n",
    "# summarize forecast and confidence intervals\n",
    "print('Expected: %.3f' % result.predicted_mean)\n",
    "print('Forecast: %.3f' % test[0])\n",
    "print('Standard Error: %.3f' % result.se_mean)\n",
    "ci = result.conf_int(0.05)\n",
    "print('95%% Interval: %.3f to %.3f' % (ci[0,0], ci[0,1]))"
   ]
  },
  {
   "cell_type": "code",
   "execution_count": 2,
   "metadata": {},
   "outputs": [
    {
     "name": "stdout",
     "output_type": "stream",
     "text": [
      "80.0% Confidence Interval: 45.149 between 36.167 and 54.131\n",
      "90.0% Confidence Interval: 45.149 between 33.621 and 56.677\n",
      "95.0% Confidence Interval: 45.149 between 31.413 and 58.886\n",
      "99.0% Confidence Interval: 45.149 between 27.096 and 63.202\n"
     ]
    }
   ],
   "source": [
    "# summarize multiple confidence intervals on an ARIMA forecast\n",
    "\n",
    "from pandas import read_csv\n",
    "from statsmodels.tsa.arima.model import ARIMA\n",
    "\n",
    "# load data\n",
    "series = read_csv('daily-total-female-births.csv', header=0, index_col=0, parse_dates=True, squeeze=True)\n",
    "\n",
    "# split data into train and test setes\n",
    "X = series.values\n",
    "X = X.astype('float32')\n",
    "size = len(X) - 1\n",
    "train, test = X[0:size], X[size:]\n",
    "\n",
    "# fit an ARIMA model\n",
    "model = ARIMA(train, order=(5,1,1))\n",
    "model_fit = model.fit()\n",
    "result = model_fit.get_forecast()\n",
    "forecast = result.predicted_mean\n",
    "\n",
    "# summarize confidence intervals\n",
    "intervals = [0.2, 0.1, 0.05, 0.01]\n",
    "for a in intervals:\n",
    "\tci = result.conf_int(alpha=a)\n",
    "\tprint('%.1f%% Confidence Interval: %.3f between %.3f and %.3f' % ((1-a)*100, forecast, ci[0,0], ci[0,1]))"
   ]
  }
 ],
 "metadata": {
  "kernelspec": {
   "display_name": "Python 3",
   "language": "python",
   "name": "python3"
  },
  "language_info": {
   "codemirror_mode": {
    "name": "ipython",
    "version": 3
   },
   "file_extension": ".py",
   "mimetype": "text/x-python",
   "name": "python",
   "nbconvert_exporter": "python",
   "pygments_lexer": "ipython3",
   "version": "3.8.5"
  }
 },
 "nbformat": 4,
 "nbformat_minor": 4
}
