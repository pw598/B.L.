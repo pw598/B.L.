{
 "cells": [
  {
   "cell_type": "code",
   "execution_count": 1,
   "metadata": {},
   "outputs": [
    {
     "name": "stdout",
     "output_type": "stream",
     "text": [
      "      t  t+1\n",
      "0   NaN  1.0\n",
      "1  20.7  1.0\n",
      "2  17.9  1.0\n",
      "3  18.8  1.0\n",
      "4  14.6  1.0\n"
     ]
    }
   ],
   "source": [
    "# reframe regression as classification\n",
    "\n",
    "from pandas import read_csv\n",
    "from pandas import DataFrame\n",
    "from pandas import concat\n",
    "\n",
    "# load data\n",
    "series = read_csv('daily-minimum-temperatures.csv', header=0, index_col=0, parse_dates=True, squeeze=True)\n",
    "\n",
    "# Create lagged dataset\n",
    "values = DataFrame(series.values)\n",
    "dataframe = concat([values.shift(1), values], axis=1)\n",
    "dataframe.columns = ['t', 't+1']\n",
    "\n",
    "# make discrete\n",
    "for i in range(len(dataframe['t+1'])):\n",
    "\tvalue = dataframe['t+1'][i]\n",
    "\tif value < 10.0:\n",
    "\t\tdataframe['t+1'][i] = 0\n",
    "\telif value >= 25.0:\n",
    "\t\tdataframe['t+1'][i] = 2\n",
    "\telse:\n",
    "\t\tdataframe['t+1'][i] = 1\n",
    "print(dataframe.head(5))"
   ]
  },
  {
   "cell_type": "code",
   "execution_count": 2,
   "metadata": {},
   "outputs": [
    {
     "name": "stdout",
     "output_type": "stream",
     "text": [
      "       t   t+1   t+2   t+3   t+4   t+5   t+6   t+7\n",
      "0    NaN  20.7  17.9  18.8  14.6  15.8  15.8  15.8\n",
      "1   20.7  17.9  18.8  14.6  15.8  15.8  15.8  17.4\n",
      "2   17.9  18.8  14.6  15.8  15.8  15.8  17.4  21.8\n",
      "3   18.8  14.6  15.8  15.8  15.8  17.4  21.8  20.0\n",
      "4   14.6  15.8  15.8  15.8  17.4  21.8  20.0  16.2\n",
      "5   15.8  15.8  15.8  17.4  21.8  20.0  16.2  13.3\n",
      "6   15.8  15.8  17.4  21.8  20.0  16.2  13.3  16.7\n",
      "7   15.8  17.4  21.8  20.0  16.2  13.3  16.7  21.5\n",
      "8   17.4  21.8  20.0  16.2  13.3  16.7  21.5  25.0\n",
      "9   21.8  20.0  16.2  13.3  16.7  21.5  25.0  20.7\n",
      "10  20.0  16.2  13.3  16.7  21.5  25.0  20.7  20.6\n",
      "11  16.2  13.3  16.7  21.5  25.0  20.7  20.6  24.8\n",
      "12  13.3  16.7  21.5  25.0  20.7  20.6  24.8  17.7\n",
      "13  16.7  21.5  25.0  20.7  20.6  24.8  17.7  15.5\n"
     ]
    }
   ],
   "source": [
    "# reframe time horizon of forecast\n",
    "\n",
    "from pandas import read_csv\n",
    "from pandas import DataFrame\n",
    "from pandas import concat\n",
    "\n",
    "# load data\n",
    "series = read_csv('daily-minimum-temperatures.csv', header=0, index_col=0, parse_dates=True, squeeze=True)\n",
    "\n",
    "# create lagged dataset\n",
    "values = DataFrame(series.values)\n",
    "dataframe = concat([values.shift(1), values, values.shift(-1),\n",
    "\tvalues.shift(-2), values.shift(-3), values.shift(-4), values.shift(-5),\n",
    "\tvalues.shift(-6)], axis=1)\n",
    "dataframe.columns = ['t', 't+1', 't+2', 't+3', 't+4', 't+5', 't+6', 't+7']\n",
    "print(dataframe.head(14))"
   ]
  },
  {
   "cell_type": "code",
   "execution_count": 3,
   "metadata": {},
   "outputs": [
    {
     "name": "stdout",
     "output_type": "stream",
     "text": [
      "      t   t+1\n",
      "0   NaN  20.0\n",
      "1  20.7  15.0\n",
      "2  17.9  15.0\n",
      "3  18.8  10.0\n",
      "4  14.6  15.0\n"
     ]
    }
   ],
   "source": [
    "# reframe precision of regression forecast\n",
    "\n",
    "from pandas import read_csv\n",
    "from pandas import DataFrame\n",
    "from pandas import concat\n",
    "\n",
    "# load data\n",
    "series = read_csv('daily-minimum-temperatures.csv', header=0, index_col=0, parse_dates=True, squeeze=True)\n",
    "\n",
    "# create lagged dataset\n",
    "values = DataFrame(series.values)\n",
    "dataframe = concat([values.shift(1), values], axis=1)\n",
    "dataframe.columns = ['t', 't+1']\n",
    "\n",
    "# round forecast to nearest 5\n",
    "for i in range(len(dataframe['t+1'])):\n",
    "\tdataframe['t+1'][i] = int(dataframe['t+1'][i] / 5) * 5.0\n",
    "print(dataframe.head(5))"
   ]
  }
 ],
 "metadata": {
  "kernelspec": {
   "display_name": "Python 3",
   "language": "python",
   "name": "python3"
  },
  "language_info": {
   "codemirror_mode": {
    "name": "ipython",
    "version": 3
   },
   "file_extension": ".py",
   "mimetype": "text/x-python",
   "name": "python",
   "nbconvert_exporter": "python",
   "pygments_lexer": "ipython3",
   "version": "3.8.5"
  }
 },
 "nbformat": 4,
 "nbformat_minor": 4
}
