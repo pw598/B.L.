{
 "cells": [
  {
   "cell_type": "code",
   "execution_count": 1,
   "metadata": {},
   "outputs": [
    {
     "name": "stdout",
     "output_type": "stream",
     "text": [
      "JPEG\n",
      "RGB\n",
      "(640, 374)\n"
     ]
    }
   ],
   "source": [
    "# load and show an image with Pillow\n",
    "from PIL import Image\n",
    "\n",
    "# load the image\n",
    "image = Image.open('sydney_bridge.jpg')\n",
    "\n",
    "# summarize some details about the image\n",
    "print(image.format)\n",
    "print(image.mode)\n",
    "print(image.size)\n",
    "\n",
    "# show the image\n",
    "image.show()"
   ]
  },
  {
   "cell_type": "code",
   "execution_count": 2,
   "metadata": {},
   "outputs": [
    {
     "name": "stdout",
     "output_type": "stream",
     "text": [
      "Data Type: uint8\n",
      "Min: 0.000, Max: 255.000\n",
      "Min: 0.000, Max: 1.000\n"
     ]
    }
   ],
   "source": [
    "# example of pixel normalization\n",
    "from numpy import asarray\n",
    "from PIL import Image\n",
    "\n",
    "# load image\n",
    "image = Image.open('sydney_bridge.jpg')\n",
    "pixels = asarray(image)\n",
    "\n",
    "# confirm pixel range is 0-255\n",
    "print('Data Type: %s' % pixels.dtype)\n",
    "print('Min: %.3f, Max: %.3f' % (pixels.min(), pixels.max()))\n",
    "\n",
    "# convert from integers to floats\n",
    "pixels = pixels.astype('float32')\n",
    "\n",
    "# normalize to the range 0-1\n",
    "pixels /= 255.0\n",
    "\n",
    "# confirm the normalization\n",
    "print('Min: %.3f, Max: %.3f' % (pixels.min(), pixels.max()))"
   ]
  },
  {
   "cell_type": "code",
   "execution_count": 3,
   "metadata": {},
   "outputs": [
    {
     "name": "stdout",
     "output_type": "stream",
     "text": [
      "Mean: 152.149\n",
      "Min: 0.000, Max: 255.000\n",
      "Mean: -0.000\n",
      "Min: -152.149, Max: 102.851\n"
     ]
    }
   ],
   "source": [
    "# example of global centering (subtract mean)\n",
    "from numpy import asarray\n",
    "from PIL import Image\n",
    "\n",
    "# load image\n",
    "image = Image.open('sydney_bridge.jpg')\n",
    "pixels = asarray(image)\n",
    "\n",
    "# convert from integers to floats\n",
    "pixels = pixels.astype('float32')\n",
    "\n",
    "# calculate global mean\n",
    "mean = pixels.mean()\n",
    "print('Mean: %.3f' % mean)\n",
    "print('Min: %.3f, Max: %.3f' % (pixels.min(), pixels.max()))\n",
    "\n",
    "# global centering of pixels\n",
    "pixels = pixels - mean\n",
    "\n",
    "# confirm it had the desired effect\n",
    "mean = pixels.mean()\n",
    "print('Mean: %.3f' % mean)\n",
    "print('Min: %.3f, Max: %.3f' % (pixels.min(), pixels.max()))"
   ]
  },
  {
   "cell_type": "code",
   "execution_count": 4,
   "metadata": {},
   "outputs": [
    {
     "name": "stdout",
     "output_type": "stream",
     "text": [
      "Means: [148.61581718 150.64154412 157.18977691]\n",
      "Mins: [0. 0. 0.], Maxs: [255. 255. 255.]\n",
      "Means: [1.14413078e-06 1.61369515e-06 1.37722619e-06]\n",
      "Mins: [-148.61581 -150.64154 -157.18977], Maxs: [106.384186 104.35846   97.81023 ]\n"
     ]
    }
   ],
   "source": [
    "# example of per-channel centering (subtract mean)\n",
    "from numpy import asarray\n",
    "from PIL import Image\n",
    "\n",
    "# load image\n",
    "image = Image.open('sydney_bridge.jpg')\n",
    "pixels = asarray(image)\n",
    "\n",
    "# convert from integers to floats\n",
    "pixels = pixels.astype('float32')\n",
    "\n",
    "# calculate per-channel means and standard deviations\n",
    "means = pixels.mean(axis=(0,1), dtype='float64')\n",
    "print('Means: %s' % means)\n",
    "print('Mins: %s, Maxs: %s' % (pixels.min(axis=(0,1)), pixels.max(axis=(0,1))))\n",
    "\n",
    "# per-channel centering of pixels\n",
    "pixels -= means\n",
    "\n",
    "# confirm it had the desired effect\n",
    "means = pixels.mean(axis=(0,1), dtype='float64')\n",
    "print('Means: %s' % means)\n",
    "print('Mins: %s, Maxs: %s' % (pixels.min(axis=(0,1)), pixels.max(axis=(0,1))))"
   ]
  },
  {
   "cell_type": "code",
   "execution_count": 5,
   "metadata": {},
   "outputs": [
    {
     "name": "stdout",
     "output_type": "stream",
     "text": [
      "Mean: 152.149, Standard Deviation: 70.642\n",
      "Mean: -0.000, Standard Deviation: 1.000\n"
     ]
    }
   ],
   "source": [
    "# example of global pixel standardization\n",
    "from numpy import asarray\n",
    "from PIL import Image\n",
    "\n",
    "# load image\n",
    "image = Image.open('sydney_bridge.jpg')\n",
    "pixels = asarray(image)\n",
    "\n",
    "# convert from integers to floats\n",
    "pixels = pixels.astype('float32')\n",
    "\n",
    "# calculate global mean and standard deviation\n",
    "mean, std = pixels.mean(), pixels.std()\n",
    "print('Mean: %.3f, Standard Deviation: %.3f' % (mean, std))\n",
    "\n",
    "# global standardization of pixels\n",
    "pixels = (pixels - mean) / std\n",
    "\n",
    "# confirm it had the desired effect\n",
    "mean, std = pixels.mean(), pixels.std()\n",
    "print('Mean: %.3f, Standard Deviation: %.3f' % (mean, std))"
   ]
  },
  {
   "cell_type": "code",
   "execution_count": 6,
   "metadata": {},
   "outputs": [
    {
     "name": "stdout",
     "output_type": "stream",
     "text": [
      "Mean: 152.149, Standard Deviation: 70.642\n",
      "Mean: 0.510, Standard Deviation: 0.388\n",
      "Min: 0.000, Max: 1.000\n"
     ]
    }
   ],
   "source": [
    "# example of global pixel standardization shifted to positive domain\n",
    "from numpy import asarray\n",
    "from numpy import clip\n",
    "from PIL import Image\n",
    "\n",
    "# load image\n",
    "image = Image.open('sydney_bridge.jpg')\n",
    "pixels = asarray(image)\n",
    "\n",
    "# convert from integers to floats\n",
    "pixels = pixels.astype('float32')\n",
    "\n",
    "# calculate global mean and standard deviation\n",
    "mean, std = pixels.mean(), pixels.std()\n",
    "print('Mean: %.3f, Standard Deviation: %.3f' % (mean, std))\n",
    "\n",
    "# global standardization of pixels\n",
    "pixels = (pixels - mean) / std\n",
    "\n",
    "# clip pixel values to [-1,1]\n",
    "pixels = clip(pixels, -1.0, 1.0)\n",
    "\n",
    "# shift from [-1,1] to [0,1] with 0.5 mean\n",
    "pixels = (pixels + 1.0) / 2.0\n",
    "\n",
    "# confirm it had the desired effect\n",
    "mean, std = pixels.mean(), pixels.std()\n",
    "print('Mean: %.3f, Standard Deviation: %.3f' % (mean, std))\n",
    "print('Min: %.3f, Max: %.3f' % (pixels.min(), pixels.max()))"
   ]
  },
  {
   "cell_type": "code",
   "execution_count": 7,
   "metadata": {},
   "outputs": [
    {
     "name": "stdout",
     "output_type": "stream",
     "text": [
      "Means: [148.61581718 150.64154412 157.18977691], Stds: [70.21666738 70.6718887  70.75185228]\n",
      "Means: [ 6.26286458e-14 -4.40909176e-14 -8.38046276e-13], Stds: [1. 1. 1.]\n"
     ]
    }
   ],
   "source": [
    "# example of per-channel pixel standardization\n",
    "from numpy import asarray\n",
    "from PIL import Image\n",
    "\n",
    "# load image\n",
    "image = Image.open('sydney_bridge.jpg')\n",
    "pixels = asarray(image)\n",
    "\n",
    "# convert from integers to floats\n",
    "pixels = pixels.astype('float32')\n",
    "\n",
    "# calculate per-channel means and standard deviations\n",
    "means = pixels.mean(axis=(0,1), dtype='float64')\n",
    "stds = pixels.std(axis=(0,1), dtype='float64')\n",
    "print('Means: %s, Stds: %s' % (means, stds))\n",
    "\n",
    "# per-channel standardization of pixels\n",
    "pixels = (pixels - means) / stds\n",
    "\n",
    "# confirm it had the desired effect\n",
    "means = pixels.mean(axis=(0,1), dtype='float64')\n",
    "stds = pixels.std(axis=(0,1), dtype='float64')\n",
    "print('Means: %s, Stds: %s' % (means, stds))"
   ]
  }
 ],
 "metadata": {
  "kernelspec": {
   "display_name": "Python 3",
   "language": "python",
   "name": "python3"
  },
  "language_info": {
   "codemirror_mode": {
    "name": "ipython",
    "version": 3
   },
   "file_extension": ".py",
   "mimetype": "text/x-python",
   "name": "python",
   "nbconvert_exporter": "python",
   "pygments_lexer": "ipython3",
   "version": "3.8.5"
  }
 },
 "nbformat": 4,
 "nbformat_minor": 4
}
