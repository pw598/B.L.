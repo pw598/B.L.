{
 "cells": [
  {
   "cell_type": "code",
   "execution_count": null,
   "metadata": {},
   "outputs": [],
   "source": [
    "# one sample\n",
    "\n",
    "from numpy import array\n",
    "data = array([0.1, 0.2, 0.3, 0.4, 0.5, 0.6, 0.7, 0.8, 0.9, 1.0])\n",
    "data = data.reshape((1, 10, 1))\n",
    "print(data.shape)"
   ]
  },
  {
   "cell_type": "code",
   "execution_count": null,
   "metadata": {},
   "outputs": [],
   "source": [
    "# parallel series\n",
    "\n",
    "from numpy import array\n",
    "data = array([\n",
    "\t[0.1, 1.0],\n",
    "\t[0.2, 0.9],\n",
    "\t[0.3, 0.8],\n",
    "\t[0.4, 0.7],\n",
    "\t[0.5, 0.6],\n",
    "\t[0.6, 0.5],\n",
    "\t[0.7, 0.4],\n",
    "\t[0.8, 0.3],\n",
    "\t[0.9, 0.2],\n",
    "\t[1.0, 0.1]])\n",
    "data = data.reshape(1, 10, 2)\n",
    "print(data.shape)"
   ]
  }
 ],
 "metadata": {
  "kernelspec": {
   "display_name": "Python 3",
   "language": "python",
   "name": "python3"
  },
  "language_info": {
   "codemirror_mode": {
    "name": "ipython",
    "version": 3
   },
   "file_extension": ".py",
   "mimetype": "text/x-python",
   "name": "python",
   "nbconvert_exporter": "python",
   "pygments_lexer": "ipython3",
   "version": "3.8.5"
  }
 },
 "nbformat": 4,
 "nbformat_minor": 4
}
