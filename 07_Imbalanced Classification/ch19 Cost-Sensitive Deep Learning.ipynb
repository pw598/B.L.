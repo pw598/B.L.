{
 "cells": [
  {
   "cell_type": "code",
   "execution_count": 1,
   "metadata": {},
   "outputs": [
    {
     "name": "stdout",
     "output_type": "stream",
     "text": [
      "Counter({0: 9900, 1: 100})\n"
     ]
    },
    {
     "data": {
      "image/png": "[encoded data removed]",
      "text/plain": [
       "<Figure size 432x288 with 1 Axes>"
      ]
     },
     "metadata": {
      "needs_background": "light"
     },
     "output_type": "display_data"
    }
   ],
   "source": [
    "# Generate and plot a synthetic imbalanced classification dataset\n",
    "from collections import Counter\n",
    "from sklearn.datasets import make_classification\n",
    "from matplotlib import pyplot\n",
    "from numpy import where\n",
    "\n",
    "# define dataset\n",
    "X, y = make_classification(n_samples=10000, n_features=2, n_redundant=0, n_clusters_per_class=2, weights=[0.99], flip_y=0, random_state=4)\n",
    "\n",
    "# summarize class distribution\n",
    "counter = Counter(y)\n",
    "print(counter)\n",
    "\n",
    "# scatter plot of examples by class label\n",
    "for label, _ in counter.items():\n",
    "    row_ix = where(y == label)[0]\n",
    "    pyplot.scatter(X[row_ix, 0], X[row_ix, 1], label=str(label))\n",
    "pyplot.legend()\n",
    "pyplot.show()"
   ]
  },
  {
   "cell_type": "code",
   "execution_count": 2,
   "metadata": {},
   "outputs": [
    {
     "name": "stdout",
     "output_type": "stream",
     "text": [
      "ROC AUC: 0.940\n"
     ]
    }
   ],
   "source": [
    "# standard neural network on an imbalanced classification dataset\n",
    "from sklearn.datasets import make_classification\n",
    "from sklearn.metrics import roc_auc_score\n",
    "from keras.layers import Dense\n",
    "from keras.models import Sequential\n",
    "\n",
    "# prepare train and test dataset\n",
    "def prepare_data():\n",
    "\t# generate 2d classification dataset\n",
    "\tX, y = make_classification(n_samples=10000, n_features=2, n_redundant=0, n_clusters_per_class=2, weights=[0.99], flip_y=0, random_state=4)\n",
    "\t# split into train and test\n",
    "\tn_train = 5000\n",
    "\ttrainX, testX = X[:n_train, :], X[n_train:, :]\n",
    "\ttrainy, testy = y[:n_train], y[n_train:]\n",
    "\treturn trainX, trainy, testX, testy\n",
    "\n",
    "# define the neural network model\n",
    "def define_model(n_input):\n",
    "    \n",
    "    # define model\n",
    "    model = Sequential()\n",
    "    \n",
    "    # define first hidden layer and visible layer\n",
    "    model.add(Dense(10, input_dim=n_input, activation='relu', kernel_initializer='he_uniform'))\n",
    "    \n",
    "    # define output layer\n",
    "    model.add(Dense(1, activation='sigmoid'))\n",
    "    \n",
    "    # define loss and optimizer\n",
    "    model.compile(loss='binary_crossentropy', optimizer='sgd')\n",
    "    return model\n",
    "\n",
    "# prepare dataset\n",
    "trainX, trainy, testX, testy = prepare_data()\n",
    "\n",
    "# define the model\n",
    "n_input = trainX.shape[1]\n",
    "model = define_model(n_input)\n",
    "\n",
    "# fit model\n",
    "model.fit(trainX, trainy, epochs=100, verbose=0)\n",
    "\n",
    "# make predictions on the test dataset\n",
    "yhat = model.predict(testX)\n",
    "\n",
    "# evaluate the ROC AUC of the predictions\n",
    "score = roc_auc_score(testy, yhat)\n",
    "print('ROC AUC: %.3f' % score)"
   ]
  },
  {
   "cell_type": "code",
   "execution_count": 3,
   "metadata": {},
   "outputs": [
    {
     "name": "stdout",
     "output_type": "stream",
     "text": [
      "ROC AUC: 0.974\n"
     ]
    }
   ],
   "source": [
    "# class weighted neural network on an imbalanced classification dataset\n",
    "from sklearn.datasets import make_classification\n",
    "from sklearn.metrics import roc_auc_score\n",
    "from keras.layers import Dense\n",
    "from keras.models import Sequential\n",
    "\n",
    "# prepare train and test dataset\n",
    "def prepare_data():\n",
    "    \n",
    "    # generate 2d classification dataset\n",
    "    X, y = make_classification(n_samples=10000, n_features=2, n_redundant=0, n_clusters_per_class=2, weights=[0.99], flip_y=0, random_state=4)\n",
    "    \n",
    "    # split into train and test\n",
    "    n_train = 5000\n",
    "    trainX, testX = X[:n_train, :], X[n_train:, :]\n",
    "    trainy, testy = y[:n_train], y[n_train:]\n",
    "    return trainX, trainy, testX, testy\n",
    "\n",
    "# define the neural network model\n",
    "def define_model(n_input):\n",
    "    \n",
    "    # define model\n",
    "    model = Sequential()\n",
    "    \n",
    "    # define first hidden layer and visible layer\n",
    "    model.add(Dense(10, input_dim=n_input, activation='relu', kernel_initializer='he_uniform'))\n",
    "    \n",
    "    # define output layer\n",
    "    model.add(Dense(1, activation='sigmoid'))\n",
    "    \n",
    "    # define loss and optimizer\n",
    "    model.compile(loss='binary_crossentropy', optimizer='sgd')\n",
    "    return model\n",
    "\n",
    "# prepare dataset\n",
    "trainX, trainy, testX, testy = prepare_data()\n",
    "\n",
    "# get the model\n",
    "n_input = trainX.shape[1]\n",
    "model = define_model(n_input)\n",
    "\n",
    "# fit model\n",
    "weights = {0:1, 1:100}\n",
    "history = model.fit(trainX, trainy, class_weight=weights, epochs=100, verbose=0)\n",
    "\n",
    "# evaluate model\n",
    "yhat = model.predict(testX)\n",
    "score = roc_auc_score(testy, yhat)\n",
    "print('ROC AUC: %.3f' % score)"
   ]
  }
 ],
 "metadata": {
  "kernelspec": {
   "display_name": "Python 3",
   "language": "python",
   "name": "python3"
  },
  "language_info": {
   "codemirror_mode": {
    "name": "ipython",
    "version": 3
   },
   "file_extension": ".py",
   "mimetype": "text/x-python",
   "name": "python",
   "nbconvert_exporter": "python",
   "pygments_lexer": "ipython3",
   "version": "3.8.5"
  }
 },
 "nbformat": 4,
 "nbformat_minor": 4
}
