{
 "cells": [
  {
   "cell_type": "code",
   "execution_count": 1,
   "metadata": {},
   "outputs": [
    {
     "name": "stdout",
     "output_type": "stream",
     "text": [
      "> Class=0 : 990/1000 (99.0%)\n",
      "> Class=1 : 10/1000 (1.0%)\n"
     ]
    }
   ],
   "source": [
    "# create an imbalanced dataset\n",
    "from numpy import unique\n",
    "from sklearn.datasets import make_classification\n",
    "\n",
    "# generate 2 class dataset\n",
    "X, y = make_classification(n_samples=1000, n_classes=2, weights=[0.99], flip_y=0, random_state=1)\n",
    "\n",
    "# summarize dataset\n",
    "classes = unique(y)\n",
    "total = len(y)\n",
    "for c in classes:\n",
    "    n_examples = len(y[y==c])\n",
    "    percent = n_examples / total * 100\n",
    "    print('> Class=%d : %d/%d (%.1f%%)' % (c, n_examples, total, percent))"
   ]
  },
  {
   "cell_type": "code",
   "execution_count": 2,
   "metadata": {},
   "outputs": [
    {
     "name": "stdout",
     "output_type": "stream",
     "text": [
      "P(class0=1): Log Loss=0.345\n",
      "P(class1=1): Log Loss=34.193\n",
      "Baseline: Log Loss=0.056\n",
      "Perfect: Log Loss=0.000\n"
     ]
    }
   ],
   "source": [
    "# log loss for naive probability predictions.\n",
    "from sklearn.datasets import make_classification\n",
    "from sklearn.model_selection import train_test_split\n",
    "from sklearn.metrics import log_loss\n",
    "\n",
    "# generate 2 class dataset\n",
    "X, y = make_classification(n_samples=1000, n_classes=2, weights=[0.99], flip_y=0, random_state=1)\n",
    "\n",
    "# split into train/test sets with same class ratio\n",
    "trainX, testX, trainy, testy = train_test_split(X, y, test_size=0.5, random_state=2, stratify=y)\n",
    "\n",
    "# no skill prediction 0\n",
    "probabilities = [[1, 0] for _ in range(len(testy))]\n",
    "avg_logloss = log_loss(testy, probabilities)\n",
    "print('P(class0=1): Log Loss=%.3f' % (avg_logloss))\n",
    "\n",
    "# no skill prediction 1\n",
    "probabilities = [[0, 1] for _ in range(len(testy))]\n",
    "avg_logloss = log_loss(testy, probabilities)\n",
    "print('P(class1=1): Log Loss=%.3f' % (avg_logloss))\n",
    "\n",
    "# baseline probabilities\n",
    "probabilities = [[0.99, 0.01] for _ in range(len(testy))]\n",
    "avg_logloss = log_loss(testy, probabilities)\n",
    "print('Baseline: Log Loss=%.3f' % (avg_logloss))\n",
    "\n",
    "# perfect probabilities\n",
    "avg_logloss = log_loss(testy, testy)\n",
    "print('Perfect: Log Loss=%.3f' % (avg_logloss))"
   ]
  },
  {
   "cell_type": "code",
   "execution_count": 3,
   "metadata": {},
   "outputs": [
    {
     "name": "stdout",
     "output_type": "stream",
     "text": [
      "P(class1=0): Brier Score=0.0100\n",
      "P(class1=1): Brier Score=0.9900\n",
      "Baseline: Brier Score=0.0099\n",
      "Perfect: Brier Score=0.0000\n"
     ]
    }
   ],
   "source": [
    "# brier score for naive probability predictions.\n",
    "from sklearn.datasets import make_classification\n",
    "from sklearn.model_selection import train_test_split\n",
    "from sklearn.metrics import brier_score_loss\n",
    "\n",
    "# generate 2 class dataset\n",
    "X, y = make_classification(n_samples=1000, n_classes=2, weights=[0.99], flip_y=0, random_state=1)\n",
    "\n",
    "# split into train/test sets with same class ratio\n",
    "trainX, testX, trainy, testy = train_test_split(X, y, test_size=0.5, random_state=2, stratify=y)\n",
    "\n",
    "# no skill prediction 0\n",
    "probabilities = [0.0 for _ in range(len(testy))]\n",
    "avg_brier = brier_score_loss(testy, probabilities)\n",
    "print('P(class1=0): Brier Score=%.4f' % (avg_brier))\n",
    "\n",
    "# no skill prediction 1\n",
    "probabilities = [1.0 for _ in range(len(testy))]\n",
    "avg_brier = brier_score_loss(testy, probabilities)\n",
    "print('P(class1=1): Brier Score=%.4f' % (avg_brier))\n",
    "\n",
    "# baseline probabilities\n",
    "probabilities = [0.01 for _ in range(len(testy))]\n",
    "avg_brier = brier_score_loss(testy, probabilities)\n",
    "print('Baseline: Brier Score=%.4f' % (avg_brier))\n",
    "\n",
    "# perfect probabilities\n",
    "avg_brier = brier_score_loss(testy, testy)\n",
    "print('Perfect: Brier Score=%.4f' % (avg_brier))"
   ]
  },
  {
   "cell_type": "code",
   "execution_count": 4,
   "metadata": {},
   "outputs": [
    {
     "name": "stdout",
     "output_type": "stream",
     "text": [
      "Reference: Brier Score=0.0099\n",
      "P(class1=0): BSS=-0.0101\n",
      "P(class1=1): BSS=-99.0000\n",
      "Baseline: BSS=0.0000\n",
      "Perfect: BSS=1.0000\n"
     ]
    }
   ],
   "source": [
    "# brier skill score for naive probability predictions.\n",
    "from sklearn.datasets import make_classification\n",
    "from sklearn.model_selection import train_test_split\n",
    "from sklearn.metrics import brier_score_loss\n",
    "\n",
    "# calculate the brier skill score\n",
    "def brier_skill_score(y, yhat, brier_ref):\n",
    "\t# calculate the brier score\n",
    "\tbs = brier_score_loss(y, yhat)\n",
    "\t# calculate skill score\n",
    "\treturn 1.0 - (bs / brier_ref)\n",
    "\n",
    "# generate 2 class dataset\n",
    "X, y = make_classification(n_samples=1000, n_classes=2, weights=[0.99], flip_y=0, random_state=1)\n",
    "\n",
    "# split into train/test sets with same class ratio\n",
    "trainX, testX, trainy, testy = train_test_split(X, y, test_size=0.5, random_state=2, stratify=y)\n",
    "\n",
    "# calculate reference\n",
    "probabilities = [0.01 for _ in range(len(testy))]\n",
    "brier_ref = brier_score_loss(testy, probabilities)\n",
    "print('Reference: Brier Score=%.4f' % (brier_ref))\n",
    "\n",
    "# no skill prediction 0\n",
    "probabilities = [0.0 for _ in range(len(testy))]\n",
    "bss = brier_skill_score(testy, probabilities, brier_ref)\n",
    "print('P(class1=0): BSS=%.4f' % (bss))\n",
    "\n",
    "# no skill prediction 1\n",
    "probabilities = [1.0 for _ in range(len(testy))]\n",
    "bss = brier_skill_score(testy, probabilities, brier_ref)\n",
    "print('P(class1=1): BSS=%.4f' % (bss))\n",
    "\n",
    "# baseline probabilities\n",
    "probabilities = [0.01 for _ in range(len(testy))]\n",
    "bss = brier_skill_score(testy, probabilities, brier_ref)\n",
    "print('Baseline: BSS=%.4f' % (bss))\n",
    "\n",
    "# perfect probabilities\n",
    "bss = brier_skill_score(testy, testy, brier_ref)\n",
    "print('Perfect: BSS=%.4f' % (bss))"
   ]
  }
 ],
 "metadata": {
  "kernelspec": {
   "display_name": "Python 3",
   "language": "python",
   "name": "python3"
  },
  "language_info": {
   "codemirror_mode": {
    "name": "ipython",
    "version": 3
   },
   "file_extension": ".py",
   "mimetype": "text/x-python",
   "name": "python",
   "nbconvert_exporter": "python",
   "pygments_lexer": "ipython3",
   "version": "3.8.5"
  }
 },
 "nbformat": 4,
 "nbformat_minor": 4
}
