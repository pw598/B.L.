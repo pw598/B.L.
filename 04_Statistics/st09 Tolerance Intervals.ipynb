{
 "cells": [
  {
   "cell_type": "markdown",
   "metadata": {},
   "source": [
    "# Tolerance Intervals"
   ]
  },
  {
   "cell_type": "code",
   "execution_count": 1,
   "metadata": {},
   "outputs": [
    {
     "name": "stdout",
     "output_type": "stream",
     "text": [
      "Gaussian critical value: -1.960 (coverage=95%)\n",
      "Chi-Squared critical value: 69.230 (prob=99%, dof=99)\n",
      "Tolerance Interval: 2.355\n",
      "47.95 to 52.66 covers 95% of data with a confidence of 99%\n"
     ]
    }
   ],
   "source": [
    "# parametric tolerance interval\n",
    "from numpy.random import seed\n",
    "from numpy.random import randn\n",
    "from numpy import mean\n",
    "from numpy import sqrt\n",
    "from scipy.stats import chi2\n",
    "from scipy.stats import norm\n",
    "\n",
    "# seed the random number generator\n",
    "seed(1)\n",
    "\n",
    "# generate dataset\n",
    "data = 5 * randn(100) + 50\n",
    "\n",
    "# specify degrees of freedom\n",
    "n = len(data)\n",
    "dof = n - 1\n",
    "\n",
    "# specify data coverage\n",
    "prop = 0.95\n",
    "prop_inv = (1.0 - prop) / 2.0\n",
    "gauss_critical = norm.ppf(prop_inv)\n",
    "print('Gaussian critical value: %.3f (coverage=%d%%)' % (gauss_critical, prop*100))\n",
    "\n",
    "# specify confidence\n",
    "prob = 0.99\n",
    "prop_inv = 1.0 - prob\n",
    "chi_critical = chi2.ppf(prop_inv, dof)\n",
    "print('Chi-Squared critical value: %.3f (prob=%d%%, dof=%d)' % (chi_critical, prob*100, dof))\n",
    "\n",
    "# tolerance\n",
    "interval = sqrt((dof * (1 + (1/n)) * gauss_critical**2) / chi_critical)\n",
    "print('Tolerance Interval: %.3f' % interval)\n",
    "\n",
    "# summarize\n",
    "data_mean = mean(data)\n",
    "lower, upper = data_mean-interval, data_mean+interval\n",
    "print('%.2f to %.2f covers %d%% of data with a confidence of %d%%' % (lower, upper, prop*100, prob*100))"
   ]
  },
  {
   "cell_type": "code",
   "execution_count": 2,
   "metadata": {},
   "outputs": [
    {
     "data": {
      "image/png": "[encoded data removed]",
      "text/plain": [
       "<Figure size 432x288 with 1 Axes>"
      ]
     },
     "metadata": {
      "needs_background": "light"
     },
     "output_type": "display_data"
    }
   ],
   "source": [
    "# plot tolerance interval vs sample size\n",
    "from numpy.random import seed\n",
    "from numpy.random import randn\n",
    "from numpy import sqrt\n",
    "from scipy.stats import chi2\n",
    "from scipy.stats import norm\n",
    "from matplotlib import pyplot\n",
    "\n",
    "# seed the random number generator\n",
    "seed(1)\n",
    "\n",
    "\n",
    "# sample sizes\n",
    "sizes = range(5,15)\n",
    "for n in sizes:\n",
    "\n",
    "    # generate dataset\n",
    "\tdata = 5 * randn(n) + 50\n",
    "\n",
    "    # calculate degrees of freedom\n",
    "\tdof = n - 1\n",
    "\n",
    "    # specify data coverage\n",
    "\tprop = 0.95\n",
    "\tprop_inv = (1.0 - prop) / 2.0\n",
    "\tgauss_critical = norm.ppf(prop_inv)\n",
    "\n",
    "    # specify confidence\n",
    "\tprob = 0.99\n",
    "\tprop_inv = 1.0 - prob\n",
    "\tchi_critical = chi2.ppf(prop_inv, dof)\n",
    "\n",
    "    # tolerance\n",
    "\ttol = sqrt((dof * (1 + (1/n)) * gauss_critical**2) / chi_critical)\n",
    "\n",
    "    # plot\n",
    "\tpyplot.errorbar(n, 50, yerr=tol, color='blue', fmt='o')\n",
    "\n",
    "# plot results\n",
    "pyplot.show()"
   ]
  }
 ],
 "metadata": {
  "kernelspec": {
   "display_name": "Python 3",
   "language": "python",
   "name": "python3"
  },
  "language_info": {
   "codemirror_mode": {
    "name": "ipython",
    "version": 3
   },
   "file_extension": ".py",
   "mimetype": "text/x-python",
   "name": "python",
   "nbconvert_exporter": "python",
   "pygments_lexer": "ipython3",
   "version": "3.8.5"
  }
 },
 "nbformat": 4,
 "nbformat_minor": 4
}
