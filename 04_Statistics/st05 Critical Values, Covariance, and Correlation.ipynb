{
 "cells": [
  {
   "cell_type": "markdown",
   "metadata": {},
   "source": [
    "# Percent Point Functions"
   ]
  },
  {
   "cell_type": "markdown",
   "metadata": {},
   "source": [
    "### Gaussian Distribution"
   ]
  },
  {
   "cell_type": "code",
   "execution_count": 1,
   "metadata": {},
   "outputs": [
    {
     "name": "stdout",
     "output_type": "stream",
     "text": [
      "1.6448536269514722\n",
      "0.95\n"
     ]
    }
   ],
   "source": [
    "from scipy.stats import norm\n",
    "\n",
    "# define probability\n",
    "p = 0.95\n",
    "\n",
    "# retrieve value <= probability\n",
    "value = norm.ppf(p)\n",
    "print(value)\n",
    "\n",
    "# confirm with cdf\n",
    "p = norm.cdf(value)\n",
    "print(p)"
   ]
  },
  {
   "cell_type": "markdown",
   "metadata": {},
   "source": [
    "### T-Distribution"
   ]
  },
  {
   "cell_type": "code",
   "execution_count": 2,
   "metadata": {},
   "outputs": [
    {
     "name": "stdout",
     "output_type": "stream",
     "text": [
      "1.8124611228107335\n",
      "0.949999999999923\n"
     ]
    }
   ],
   "source": [
    "from scipy.stats import t\n",
    "\n",
    "# define probability\n",
    "p = 0.95\n",
    "df = 10\n",
    "\n",
    "# retrieve value <= probability\n",
    "value = t.ppf(p, df)\n",
    "print(value)\n",
    "\n",
    "# confirm with cdf\n",
    "p = t.cdf(value, df)\n",
    "print(p)"
   ]
  },
  {
   "cell_type": "markdown",
   "metadata": {},
   "source": [
    "### Chi-Squared Distribution"
   ]
  },
  {
   "cell_type": "code",
   "execution_count": 3,
   "metadata": {},
   "outputs": [
    {
     "name": "stdout",
     "output_type": "stream",
     "text": [
      "18.307038053275146\n",
      "0.95\n"
     ]
    }
   ],
   "source": [
    "from scipy.stats import chi2\n",
    "\n",
    "# define probability\n",
    "p = 0.95\n",
    "df = 10\n",
    "\n",
    "# retrieve value <= probability\n",
    "value = chi2.ppf(p, df)\n",
    "print(value)\n",
    "\n",
    "# confirm with cdf\n",
    "p = chi2.cdf(value, df)\n",
    "print(p)"
   ]
  },
  {
   "cell_type": "markdown",
   "metadata": {},
   "source": [
    "# Covariance & Correlation"
   ]
  },
  {
   "cell_type": "code",
   "execution_count": 4,
   "metadata": {
    "scrolled": true
   },
   "outputs": [
    {
     "name": "stdout",
     "output_type": "stream",
     "text": [
      "data1: mean=100.776 stdv=19.620\n",
      "data2: mean=151.050 stdv=22.358\n"
     ]
    },
    {
     "data": {
      "image/png": "[encoded data removed]",
      "text/plain": [
       "<Figure size 432x288 with 1 Axes>"
      ]
     },
     "metadata": {
      "needs_background": "light"
     },
     "output_type": "display_data"
    }
   ],
   "source": [
    "# generate related variables\n",
    "from numpy import mean\n",
    "from numpy import std\n",
    "from numpy.random import randn\n",
    "from numpy.random import seed\n",
    "from matplotlib import pyplot\n",
    "\n",
    "# seed random number generator\n",
    "seed(1)\n",
    "\n",
    "# prepare data\n",
    "data1 = 20 * randn(1000) + 100\n",
    "data2 = data1 + (10 * randn(1000) + 50)\n",
    "\n",
    "# summarize\n",
    "print('data1: mean=%.3f stdv=%.3f' % (mean(data1), std(data1)))\n",
    "print('data2: mean=%.3f stdv=%.3f' % (mean(data2), std(data2)))\n",
    "\n",
    "# plot\n",
    "pyplot.scatter(data1, data2)\n",
    "pyplot.show()"
   ]
  },
  {
   "cell_type": "markdown",
   "metadata": {},
   "source": [
    "### Covariance Between 2 Variables"
   ]
  },
  {
   "cell_type": "code",
   "execution_count": 5,
   "metadata": {},
   "outputs": [
    {
     "name": "stdout",
     "output_type": "stream",
     "text": [
      "[[385.33297729 389.7545618 ]\n",
      " [389.7545618  500.38006058]]\n"
     ]
    }
   ],
   "source": [
    "from numpy.random import randn\n",
    "from numpy.random import seed\n",
    "from numpy import cov\n",
    "\n",
    "# seed random number generator\n",
    "seed(1)\n",
    "\n",
    "# prepare data\n",
    "data1 = 20 * randn(1000) + 100\n",
    "data2 = data1 + (10 * randn(1000) + 50)\n",
    "\n",
    "# calculate covariance matrix\n",
    "covariance = cov(data1, data2)\n",
    "print(covariance)"
   ]
  },
  {
   "cell_type": "markdown",
   "metadata": {},
   "source": [
    "### Correlation Between 2 Variables"
   ]
  },
  {
   "cell_type": "code",
   "execution_count": 6,
   "metadata": {},
   "outputs": [
    {
     "name": "stdout",
     "output_type": "stream",
     "text": [
      "Pearsons correlation: 0.888\n",
      "Some correlation (reject H0)\n"
     ]
    }
   ],
   "source": [
    "# calculate the pearson's correlation between two variables\n",
    "from numpy.random import randn\n",
    "from numpy.random import seed\n",
    "from scipy.stats import pearsonr\n",
    "\n",
    "# seed random number generator\n",
    "seed(1)\n",
    "\n",
    "# prepare data\n",
    "data1 = 20 * randn(1000) + 100\n",
    "data2 = data1 + (10 * randn(1000) + 50)\n",
    "\n",
    "# calculate Pearson's correlation\n",
    "corr, p = pearsonr(data1, data2)\n",
    "\n",
    "# display the correlation\n",
    "print('Pearsons correlation: %.3f' % corr)\n",
    "\n",
    "# interpret the significance\n",
    "alpha = 0.05\n",
    "if p > alpha:\n",
    "\tprint('No correlation (fail to reject H0)')\n",
    "else:\n",
    "\tprint('Some correlation (reject H0)')"
   ]
  }
 ],
 "metadata": {
  "kernelspec": {
   "display_name": "Python 3",
   "language": "python",
   "name": "python3"
  },
  "language_info": {
   "codemirror_mode": {
    "name": "ipython",
    "version": 3
   },
   "file_extension": ".py",
   "mimetype": "text/x-python",
   "name": "python",
   "nbconvert_exporter": "python",
   "pygments_lexer": "ipython3",
   "version": "3.8.5"
  }
 },
 "nbformat": 4,
 "nbformat_minor": 4
}
