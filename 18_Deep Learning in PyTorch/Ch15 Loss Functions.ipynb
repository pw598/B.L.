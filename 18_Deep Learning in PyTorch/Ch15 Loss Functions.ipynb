{
 "cells": [
  {
   "cell_type": "code",
   "execution_count": 1,
   "id": "6e153a16-fc9f-41d1-82b7-04a219ed5f2c",
   "metadata": {},
   "outputs": [
    {
     "name": "stdout",
     "output_type": "stream",
     "text": [
      "MAE: 2.000\n",
      "MSE: 5.000\n"
     ]
    }
   ],
   "source": [
    "import torch\n",
    "import torch.nn as nn\n",
    "\n",
    "mae = nn.L1Loss()\n",
    "mse = nn.MSELoss()\n",
    "\n",
    "predict = torch.tensor([0., 3.])\n",
    "target = torch.tensor([1., 0.])\n",
    "\n",
    "print(\"MAE: %.3f\" % mae(predict, target))\n",
    "print(\"MSE: %.3f\" % mse(predict, target))"
   ]
  },
  {
   "cell_type": "code",
   "execution_count": 2,
   "id": "c122d445-629f-458f-b584-5586c0098fed",
   "metadata": {},
   "outputs": [
    {
     "name": "stdout",
     "output_type": "stream",
     "text": [
      "Cross entropy: 0.288\n"
     ]
    }
   ],
   "source": [
    "import torch\n",
    "import torch.nn as nn\n",
    "\n",
    "ce = nn.CrossEntropyLoss()\n",
    "\n",
    "logits = torch.tensor([[-1.90, -0.29, -2.30], [-0.29, -1.90, -2.30]])\n",
    "target = torch.tensor([[0., 1., 0.], [1., 0., 0.]])\n",
    "print(\"Cross entropy: %.3f\" % ce(logits, target))"
   ]
  },
  {
   "cell_type": "code",
   "execution_count": 3,
   "id": "d30886e4-26ce-4443-bcc6-ec26b9b353fc",
   "metadata": {},
   "outputs": [
    {
     "name": "stdout",
     "output_type": "stream",
     "text": [
      "Cross entropy: 0.288\n"
     ]
    }
   ],
   "source": [
    "import torch\n",
    "import torch.nn as nn\n",
    "\n",
    "ce = nn.CrossEntropyLoss()\n",
    "\n",
    "logits = torch.tensor([[-1.90, -0.29, -2.30], [-0.29, -1.90, -2.30]])\n",
    "indices = torch.tensor([1, 0])\n",
    "print(\"Cross entropy: %.3f\" % ce(logits, indices))"
   ]
  },
  {
   "cell_type": "code",
   "execution_count": 4,
   "id": "96ec30ec-7ff4-4f58-90b7-6c5937f57fb8",
   "metadata": {},
   "outputs": [
    {
     "name": "stdout",
     "output_type": "stream",
     "text": [
      "tensor([1, 0])\n"
     ]
    }
   ],
   "source": [
    "import torch\n",
    "\n",
    "target = torch.tensor([[0., 1., 0.], [1., 0., 0.]])\n",
    "indices = torch.argmax(target, dim=1)\n",
    "print(indices)"
   ]
  },
  {
   "cell_type": "code",
   "execution_count": 5,
   "id": "c5048674-ae02-4503-ae25-c73f831b744e",
   "metadata": {},
   "outputs": [
    {
     "name": "stdout",
     "output_type": "stream",
     "text": [
      "Cross entropy: 0.288\n"
     ]
    }
   ],
   "source": [
    "import torch\n",
    "import torch.nn as nn\n",
    "\n",
    "ce = nn.NLLLoss()\n",
    "\n",
    "# softmax to apply on dimension 1, i.e. per row\n",
    "logsoftmax = nn.LogSoftmax(dim=1)\n",
    "\n",
    "logits = torch.tensor([[-1.90, -0.29, -2.30], [-0.29, -1.90, -2.30]])\n",
    "pred = logsoftmax(logits)\n",
    "indices = torch.tensor([1, 0])\n",
    "print(\"Cross entropy: %.3f\" % ce(pred, indices))"
   ]
  },
  {
   "cell_type": "code",
   "execution_count": 6,
   "id": "349b1e5f-e0ea-4d33-b311-cfeb93ed9af3",
   "metadata": {},
   "outputs": [
    {
     "name": "stdout",
     "output_type": "stream",
     "text": [
      "Binary cross entropy: 0.288\n"
     ]
    }
   ],
   "source": [
    "import torch\n",
    "import torch.nn as nn\n",
    "\n",
    "bce = nn.BCELoss()\n",
    "\n",
    "pred = torch.tensor([0.75, 0.25])\n",
    "target = torch.tensor([1., 0.])\n",
    "print(\"Binary cross entropy: %.3f\" % bce(pred, target))"
   ]
  },
  {
   "cell_type": "code",
   "execution_count": null,
   "id": "0432a26d-f9cf-447e-9ca4-c6b1369ee76f",
   "metadata": {
    "tags": []
   },
   "outputs": [],
   "source": [
    "import copy\n",
    "\n",
    "import numpy as np\n",
    "import torch\n",
    "import torch.nn as nn\n",
    "import torch.optim as optim\n",
    "from sklearn.model_selection import train_test_split\n",
    "from sklearn.datasets import fetch_california_housing\n",
    "from sklearn.preprocessing import StandardScaler\n",
    "\n",
    "# Read data\n",
    "data = fetch_california_housing()\n",
    "X, y = data.data, data.target\n",
    "\n",
    "# train-test split for model evaluation\n",
    "X_train_raw, X_test_raw, y_train, y_test = train_test_split(X, y, train_size=0.7,\n",
    "                                                            shuffle=True)\n",
    "\n",
    "# Standardizing data\n",
    "scaler = StandardScaler()\n",
    "scaler.fit(X_train_raw)\n",
    "X_train = scaler.transform(X_train_raw)\n",
    "X_test = scaler.transform(X_test_raw)\n",
    "\n",
    "# Convert to 2D PyTorch tensors\n",
    "X_train = torch.tensor(X_train, dtype=torch.float32)\n",
    "y_train = torch.tensor(y_train, dtype=torch.float32).reshape(-1, 1)\n",
    "X_test = torch.tensor(X_test, dtype=torch.float32)\n",
    "y_test = torch.tensor(y_test, dtype=torch.float32).reshape(-1, 1)\n",
    "\n",
    "# Define the model\n",
    "model = nn.Sequential(\n",
    "    nn.Linear(8, 24),\n",
    "    nn.ReLU(),\n",
    "    nn.Linear(24, 12),\n",
    "    nn.ReLU(),\n",
    "    nn.Linear(12, 6),\n",
    "    nn.ReLU(),\n",
    "    nn.Linear(6, 1)\n",
    ")\n",
    "\n",
    "# loss function and optimizer\n",
    "def loss_fn(output, target):\n",
    "    # MAPE loss\n",
    "    return torch.mean(torch.abs((target - output) / target))\n",
    "optimizer = optim.Adam(model.parameters(), lr=0.0001)\n",
    "\n",
    "n_epochs = 100   # number of epochs to run\n",
    "batch_size = 10  # size of each batch\n",
    "batch_start = torch.arange(0, len(X_train), batch_size)\n",
    "\n",
    "# Hold the best model\n",
    "best_mape = np.inf   # init to infinity\n",
    "best_weights = None\n",
    "\n",
    "for epoch in range(n_epochs):\n",
    "    model.train()\n",
    "    for start in batch_start:\n",
    "        # take a batch\n",
    "        X_batch = X_train[start:start+batch_size]\n",
    "        y_batch = y_train[start:start+batch_size]\n",
    "        # forward pass\n",
    "        y_pred = model(X_batch)\n",
    "        loss = loss_fn(y_pred, y_batch)\n",
    "        # backward pass\n",
    "        optimizer.zero_grad()\n",
    "        loss.backward()\n",
    "        # update weights\n",
    "        optimizer.step()\n",
    "    # evaluate accuracy at end of each epoch\n",
    "    model.eval()\n",
    "    y_pred = model(X_test)\n",
    "    mape = float(loss_fn(y_pred, y_test))\n",
    "    if mape < best_mape:\n",
    "        best_mape = mape\n",
    "        best_weights = copy.deepcopy(model.state_dict())\n",
    "\n",
    "# restore model and return best accuracy\n",
    "model.load_state_dict(best_weights)\n",
    "print(\"MAPE: %.2f\" % best_mape)\n",
    "\n",
    "model.eval()\n",
    "with torch.no_grad():\n",
    "    # Test out inference with 5 samples\n",
    "    for i in range(5):\n",
    "        X_sample = X_test_raw[i: i+1]\n",
    "        X_sample = scaler.transform(X_sample)\n",
    "        X_sample = torch.tensor(X_sample, dtype=torch.float32)\n",
    "        y_pred = model(X_sample)\n",
    "        print(f\"{X_test_raw[i]} -> {y_pred[0].numpy()} (expected {y_test[i].numpy()})\")"
   ]
  }
 ],
 "metadata": {
  "kernelspec": {
   "display_name": "Python 3 (ipykernel)",
   "language": "python",
   "name": "python3"
  },
  "language_info": {
   "codemirror_mode": {
    "name": "ipython",
    "version": 3
   },
   "file_extension": ".py",
   "mimetype": "text/x-python",
   "name": "python",
   "nbconvert_exporter": "python",
   "pygments_lexer": "ipython3",
   "version": "3.11.5"
  }
 },
 "nbformat": 4,
 "nbformat_minor": 5
}
