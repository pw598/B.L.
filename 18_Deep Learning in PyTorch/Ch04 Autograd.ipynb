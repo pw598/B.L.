{
 "cells": [
  {
   "cell_type": "code",
   "execution_count": 1,
   "id": "7e3e8dfe-a350-416c-bbab-f7ec7ab99bf9",
   "metadata": {},
   "outputs": [
    {
     "name": "stdout",
     "output_type": "stream",
     "text": [
      "tensor([1, 2, 3])\n",
      "torch.Size([3])\n",
      "torch.int64\n"
     ]
    }
   ],
   "source": [
    "import torch\n",
    "\n",
    "x = torch.tensor([1, 2, 3])\n",
    "print(x)\n",
    "print(x.shape)\n",
    "print(x.dtype)"
   ]
  },
  {
   "cell_type": "code",
   "execution_count": 2,
   "id": "37a1e16a-6ce6-4e73-ac97-5a96e28760b3",
   "metadata": {},
   "outputs": [
    {
     "name": "stdout",
     "output_type": "stream",
     "text": [
      "tensor([1., 2., 3.], requires_grad=True)\n",
      "torch.Size([3])\n",
      "torch.float32\n"
     ]
    }
   ],
   "source": [
    "import torch\n",
    "\n",
    "x = torch.tensor([1., 2., 3.], requires_grad=True)\n",
    "print(x)\n",
    "print(x.shape)\n",
    "print(x.dtype)"
   ]
  },
  {
   "cell_type": "code",
   "execution_count": 3,
   "id": "3fef9e5e-66fc-4b71-83b0-ed34a83c3bfc",
   "metadata": {},
   "outputs": [
    {
     "name": "stdout",
     "output_type": "stream",
     "text": [
      "x = tensor(3.6000, requires_grad=True)\n",
      "y = tensor(12.9600, grad_fn=<MulBackward0>)\n",
      "x.grad = tensor(7.2000)\n"
     ]
    }
   ],
   "source": [
    "import torch\n",
    "\n",
    "x = torch.tensor(3.6, requires_grad=True)\n",
    "y = x * x\n",
    "y.backward()\n",
    "print(\"x =\", x)\n",
    "print(\"y =\", y)\n",
    "print(\"x.grad =\", x.grad)"
   ]
  },
  {
   "cell_type": "code",
   "execution_count": 4,
   "id": "de0ce875-4580-4063-ad54-6d53527cc3c8",
   "metadata": {},
   "outputs": [
    {
     "name": "stdout",
     "output_type": "stream",
     "text": [
      "   2\n",
      "1 x + 2 x + 3\n"
     ]
    }
   ],
   "source": [
    "import numpy as np\n",
    "\n",
    "polynomial = np.poly1d([1, 2, 3])\n",
    "print(polynomial)"
   ]
  },
  {
   "cell_type": "code",
   "execution_count": 5,
   "id": "db364508-a9b3-4e39-97c9-c02dc9d2ab51",
   "metadata": {},
   "outputs": [
    {
     "name": "stdout",
     "output_type": "stream",
     "text": [
      "8.25\n"
     ]
    }
   ],
   "source": [
    "import numpy as np\n",
    "\n",
    "polynomial = np.poly1d([1, 2, 3])\n",
    "print(polynomial(1.5))"
   ]
  },
  {
   "cell_type": "code",
   "execution_count": 6,
   "id": "df7de6b7-9d4b-4d58-bf14-4dbf61219858",
   "metadata": {},
   "outputs": [
    {
     "name": "stdout",
     "output_type": "stream",
     "text": [
      "[[ -7.4685948 ]\n",
      " [ -1.26102938]\n",
      " [ -8.28192305]\n",
      " [ -5.6442919 ]\n",
      " [ -1.29762172]\n",
      " [  8.70972066]\n",
      " [ -2.18042289]\n",
      " [  1.45856665]\n",
      " [ -7.73489404]\n",
      " [  0.99133883]\n",
      " [ -3.67936245]\n",
      " [  5.73819002]\n",
      " [  0.41815427]\n",
      " [ -0.2619128 ]\n",
      " [ -9.38564735]\n",
      " [ -4.75439556]\n",
      " [  5.27330758]\n",
      " [-14.69328684]\n",
      " [ -9.80874242]\n",
      " [ -4.21651638]]\n",
      "[[ 43.84271869]\n",
      " [  2.06813634]\n",
      " [ 55.02640335]\n",
      " [ 23.56944725]\n",
      " [  2.08857869]\n",
      " [ 96.27867538]\n",
      " [  3.39339821]\n",
      " [  8.04455   ]\n",
      " [ 47.35879777]\n",
      " [  5.96543032]\n",
      " [  9.17898316]\n",
      " [ 47.40320469]\n",
      " [  4.01116153]\n",
      " [  2.54477271]\n",
      " [ 72.31908152]\n",
      " [ 16.09548606]\n",
      " [ 41.35438797]\n",
      " [189.50610448]\n",
      " [ 79.59394299]\n",
      " [ 12.34597762]]\n"
     ]
    }
   ],
   "source": [
    "import numpy as np\n",
    "\n",
    "polynomial = np.poly1d([1, 2, 3])\n",
    "N = 20   # number of samples\n",
    "\n",
    "# Generate random samples roughly between -10 to +10\n",
    "X = np.random.randn(N,1) * 5\n",
    "Y = polynomial(X)\n",
    "print(X)\n",
    "print(Y)"
   ]
  },
  {
   "cell_type": "code",
   "execution_count": 7,
   "id": "4170051e-6753-4a22-a118-b7a1a8c2b920",
   "metadata": {},
   "outputs": [
    {
     "name": "stdout",
     "output_type": "stream",
     "text": [
      "[[  5.99292748]\n",
      " [  5.02908741]\n",
      " [  5.5244224 ]\n",
      " [-11.54937846]\n",
      " [  7.80683478]\n",
      " [  5.41870306]\n",
      " [  1.62930845]\n",
      " [ -3.2141396 ]\n",
      " [  4.68961673]\n",
      " [ -2.29902211]\n",
      " [ -9.73266202]\n",
      " [  7.29417578]\n",
      " [  5.12020222]\n",
      " [  2.50024892]\n",
      " [ -7.19782536]\n",
      " [ -4.86400818]\n",
      " [ -3.40102092]\n",
      " [ -7.39249651]\n",
      " [  1.97486322]\n",
      " [  5.8877488 ]]\n",
      "[[ 50.90103468]\n",
      " [ 38.34989496]\n",
      " [ 44.56808764]\n",
      " [113.2893858 ]\n",
      " [ 79.56033892]\n",
      " [ 43.19974899]\n",
      " [  8.91326295]\n",
      " [  6.90241419]\n",
      " [ 34.37173852]\n",
      " [  3.68745843]\n",
      " [ 78.25938604]\n",
      " [ 70.79335189]\n",
      " [ 39.45687524]\n",
      " [ 14.25174249]\n",
      " [ 40.41303925]\n",
      " [ 16.93055921]\n",
      " [  7.76490147]\n",
      " [ 42.86401159]\n",
      " [ 10.84981117]\n",
      " [ 49.44108349]]\n"
     ]
    }
   ],
   "source": [
    "import numpy as np\n",
    "\n",
    "polynomial = np.poly1d([1, 2, 3])\n",
    "N = 20   # number of samples\n",
    "\n",
    "# Generate random samples roughly between -10 to +10\n",
    "X = np.random.randn(N,1) * 5\n",
    "Y = polynomial(X)\n",
    "print(X)\n",
    "print(Y)"
   ]
  },
  {
   "cell_type": "code",
   "execution_count": 8,
   "id": "4b055196-c07d-4b8f-8d99-fd0c9f1c618d",
   "metadata": {},
   "outputs": [
    {
     "name": "stdout",
     "output_type": "stream",
     "text": [
      "tensor([[-0.0820],\n",
      "        [-0.4037],\n",
      "        [ 1.5191]], requires_grad=True)\n",
      "tensor([[1.0013],\n",
      "        [2.0016],\n",
      "        [2.9413]], requires_grad=True)\n"
     ]
    }
   ],
   "source": [
    "import numpy as np\n",
    "import torch\n",
    "\n",
    "polynomial = np.poly1d([1, 2, 3])\n",
    "N = 20   # number of samples\n",
    "\n",
    "# Generate random samples roughly between -10 to +10\n",
    "X = np.random.randn(N,1) * 5\n",
    "Y = polynomial(X)\n",
    "\n",
    "# Prepare input as an array of shape (N,3)\n",
    "XX = np.hstack([X*X, X, np.ones_like(X)])\n",
    "\n",
    "# Prepare tensors\n",
    "w = torch.randn(3, 1, requires_grad=True)  # the 3 coefficients\n",
    "x = torch.tensor(XX, dtype=torch.float32)  # input sample\n",
    "y = torch.tensor(Y, dtype=torch.float32)   # output sample\n",
    "optimizer = torch.optim.NAdam([w], lr=0.01)\n",
    "print(w)\n",
    "\n",
    "# Run optimizer\n",
    "for _ in range(1000):\n",
    "    optimizer.zero_grad()\n",
    "    y_pred = x @ w\n",
    "    mse = torch.mean(torch.square(y - y_pred))\n",
    "    mse.backward()\n",
    "    optimizer.step()\n",
    "\n",
    "print(w)"
   ]
  },
  {
   "cell_type": "code",
   "execution_count": 9,
   "id": "3edcd5d4-0c63-4455-9398-13b1f37fcdf6",
   "metadata": {
    "tags": []
   },
   "outputs": [
    {
     "name": "stdout",
     "output_type": "stream",
     "text": [
      "tensor(4.2756, requires_grad=True)\n",
      "tensor(4.7244, requires_grad=True)\n",
      "tensor(3.7244, requires_grad=True)\n",
      "tensor(2.7244, requires_grad=True)\n"
     ]
    }
   ],
   "source": [
    "import random\n",
    "import torch\n",
    "\n",
    "A = torch.tensor(random.random(), requires_grad=True)\n",
    "B = torch.tensor(random.random(), requires_grad=True)\n",
    "C = torch.tensor(random.random(), requires_grad=True)\n",
    "D = torch.tensor(random.random(), requires_grad=True)\n",
    "\n",
    "# Gradient descent loop\n",
    "EPOCHS = 2000\n",
    "optimizer = torch.optim.NAdam([A, B, C, D], lr=0.01)\n",
    "for _ in range(EPOCHS):\n",
    "    y1 = A + B - 9\n",
    "    y2 = C - D - 1\n",
    "    y3 = A + C - 8\n",
    "    y4 = B - D - 2\n",
    "    sqerr = y1*y1 + y2*y2 + y3*y3 + y4*y4\n",
    "    optimizer.zero_grad()\n",
    "    sqerr.backward()\n",
    "    optimizer.step()\n",
    "\n",
    "print(A)\n",
    "print(B)\n",
    "print(C)\n",
    "print(D)"
   ]
  }
 ],
 "metadata": {
  "kernelspec": {
   "display_name": "Python 3 (ipykernel)",
   "language": "python",
   "name": "python3"
  },
  "language_info": {
   "codemirror_mode": {
    "name": "ipython",
    "version": 3
   },
   "file_extension": ".py",
   "mimetype": "text/x-python",
   "name": "python",
   "nbconvert_exporter": "python",
   "pygments_lexer": "ipython3",
   "version": "3.11.5"
  }
 },
 "nbformat": 4,
 "nbformat_minor": 5
}
