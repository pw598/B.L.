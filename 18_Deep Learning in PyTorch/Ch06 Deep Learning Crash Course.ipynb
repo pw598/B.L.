{
 "cells": [
  {
   "cell_type": "code",
   "execution_count": 1,
   "id": "22606b3c-1cab-458a-8206-50e8190623fe",
   "metadata": {},
   "outputs": [
    {
     "name": "stdout",
     "output_type": "stream",
     "text": [
      "Sequential(\n",
      "  (0): Linear(in_features=764, out_features=100, bias=True)\n",
      "  (1): ReLU()\n",
      "  (2): Linear(in_features=100, out_features=50, bias=True)\n",
      "  (3): ReLU()\n",
      "  (4): Linear(in_features=50, out_features=10, bias=True)\n",
      "  (5): Sigmoid()\n",
      ")\n"
     ]
    }
   ],
   "source": [
    "import torch.nn as nn\n",
    "\n",
    "model = nn.Sequential(\n",
    "    nn.Linear(764, 100),\n",
    "    nn.ReLU(),\n",
    "    nn.Linear(100, 50),\n",
    "    nn.ReLU(),\n",
    "    nn.Linear(50, 10),\n",
    "    nn.Sigmoid()\n",
    ")\n",
    "print(model)"
   ]
  },
  {
   "cell_type": "code",
   "execution_count": 2,
   "id": "989b8005-6b53-474d-8bbb-8a3d6092e049",
   "metadata": {},
   "outputs": [
    {
     "name": "stdout",
     "output_type": "stream",
     "text": [
      "Sequential(\n",
      "  (dense1): Linear(in_features=764, out_features=100, bias=True)\n",
      "  (act1): ReLU()\n",
      "  (dense2): Linear(in_features=100, out_features=50, bias=True)\n",
      "  (act2): ReLU()\n",
      "  (output): Linear(in_features=50, out_features=10, bias=True)\n",
      "  (outact): Sigmoid()\n",
      ")\n"
     ]
    }
   ],
   "source": [
    "from collections import OrderedDict\n",
    "import torch.nn as nn\n",
    "\n",
    "model = nn.Sequential(OrderedDict([\n",
    "    ('dense1', nn.Linear(764, 100)),\n",
    "    ('act1', nn.ReLU()),\n",
    "    ('dense2', nn.Linear(100, 50)),\n",
    "    ('act2', nn.ReLU()),\n",
    "    ('output', nn.Linear(50, 10)),\n",
    "    ('outact', nn.Sigmoid()),\n",
    "]))\n",
    "print(model)"
   ]
  },
  {
   "cell_type": "code",
   "execution_count": 3,
   "id": "9d650668-7182-4662-9409-71540bdca445",
   "metadata": {},
   "outputs": [
    {
     "name": "stdout",
     "output_type": "stream",
     "text": [
      "Sequential(\n",
      "  (dense1): Linear(in_features=8, out_features=12, bias=True)\n",
      "  (act1): ReLU()\n",
      "  (dense2): Linear(in_features=12, out_features=8, bias=True)\n",
      "  (act2): ReLU()\n",
      "  (output): Linear(in_features=8, out_features=1, bias=True)\n",
      "  (outact): Sigmoid()\n",
      ")\n"
     ]
    }
   ],
   "source": [
    "import torch.nn as nn\n",
    "\n",
    "model = nn.Sequential()\n",
    "model.add_module(\"dense1\", nn.Linear(8, 12))\n",
    "model.add_module(\"act1\", nn.ReLU())\n",
    "model.add_module(\"dense2\", nn.Linear(12, 8))\n",
    "model.add_module(\"act2\", nn.ReLU())\n",
    "model.add_module(\"output\", nn.Linear(8, 1))\n",
    "model.add_module(\"outact\", nn.Sigmoid())\n",
    "print(model)"
   ]
  },
  {
   "cell_type": "code",
   "execution_count": 4,
   "id": "1b4293a3-42c4-4b3f-80ee-0c819080f20e",
   "metadata": {},
   "outputs": [
    {
     "name": "stdout",
     "output_type": "stream",
     "text": [
      "Sequential(\n",
      "  (dense1): Linear(in_features=8, out_features=12, bias=True)\n",
      "  (act1): ReLU()\n",
      "  (dense2): Linear(in_features=12, out_features=8, bias=True)\n",
      "  (act2): ReLU()\n",
      "  (output): Linear(in_features=8, out_features=1, bias=True)\n",
      "  (outact): Sigmoid()\n",
      ")\n"
     ]
    }
   ],
   "source": [
    "import torch.nn as nn\n",
    "\n",
    "model = nn.Sequential()\n",
    "model.add_module(\"dense1\", nn.Linear(8, 12))\n",
    "model.add_module(\"act1\", nn.ReLU())\n",
    "model.add_module(\"dense2\", nn.Linear(12, 8))\n",
    "model.add_module(\"act2\", nn.ReLU())\n",
    "model.add_module(\"output\", nn.Linear(8, 1))\n",
    "model.add_module(\"outact\", nn.Sigmoid())\n",
    "print(model)"
   ]
  },
  {
   "cell_type": "code",
   "execution_count": 9,
   "id": "e4d482a2-bbe6-4932-aec1-b54ad887af32",
   "metadata": {
    "tags": []
   },
   "outputs": [],
   "source": [
    "model = torch.save(model, \"my_model.pth\")"
   ]
  },
  {
   "cell_type": "code",
   "execution_count": 10,
   "id": "5820965c-1a4a-4f69-b196-4adf8bd1644c",
   "metadata": {},
   "outputs": [],
   "source": [
    "import torch\n",
    "\n",
    "model = torch.load(\"my_model.pth\")"
   ]
  },
  {
   "cell_type": "code",
   "execution_count": 11,
   "id": "0d49b306-caa7-4a9c-999d-fceac9eecd75",
   "metadata": {},
   "outputs": [],
   "source": [
    "import torch\n",
    "import torch.nn as nn\n",
    "\n",
    "model = nn.Sequential(\n",
    "    nn.Linear(764, 100),\n",
    "    nn.ReLU(),\n",
    "    nn.Linear(100, 50),\n",
    "    nn.ReLU(),\n",
    "    nn.Linear(50, 10),\n",
    "    nn.Sigmoid()\n",
    ")\n",
    "torch.save(model.state_dict(), \"my_model.pth\")"
   ]
  },
  {
   "cell_type": "code",
   "execution_count": 12,
   "id": "5dbccf05-c3e1-4bb0-8658-6c75f346a7a5",
   "metadata": {
    "tags": []
   },
   "outputs": [
    {
     "data": {
      "text/plain": [
       "<All keys matched successfully>"
      ]
     },
     "execution_count": 12,
     "metadata": {},
     "output_type": "execute_result"
    }
   ],
   "source": [
    "import torch\n",
    "import torch.nn as nn\n",
    "\n",
    "model = nn.Sequential(\n",
    "    nn.Linear(764, 100),\n",
    "    nn.ReLU(),\n",
    "    nn.Linear(100, 50),\n",
    "    nn.ReLU(),\n",
    "    nn.Linear(50, 10),\n",
    "    nn.Sigmoid()\n",
    ")\n",
    "model.load_state_dict(torch.load(\"my_model.pth\"))"
   ]
  }
 ],
 "metadata": {
  "kernelspec": {
   "display_name": "Python 3 (ipykernel)",
   "language": "python",
   "name": "python3"
  },
  "language_info": {
   "codemirror_mode": {
    "name": "ipython",
    "version": 3
   },
   "file_extension": ".py",
   "mimetype": "text/x-python",
   "name": "python",
   "nbconvert_exporter": "python",
   "pygments_lexer": "ipython3",
   "version": "3.11.5"
  }
 },
 "nbformat": 4,
 "nbformat_minor": 5
}
