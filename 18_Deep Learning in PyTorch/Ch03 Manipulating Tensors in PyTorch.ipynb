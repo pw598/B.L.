{
 "cells": [
  {
   "cell_type": "code",
   "execution_count": 1,
   "id": "d79bbf8b-c42a-488f-887c-7f7829dddc75",
   "metadata": {},
   "outputs": [
    {
     "name": "stdout",
     "output_type": "stream",
     "text": [
      "tensor([[1, 2, 3],\n",
      "        [4, 5, 6]], dtype=torch.int32)\n"
     ]
    }
   ],
   "source": [
    "import torch\n",
    "a = torch.tensor([[1,2,3], [4,5,6]], dtype=torch.int32)\n",
    "print(a)"
   ]
  },
  {
   "cell_type": "code",
   "execution_count": 2,
   "id": "d392a1ce-2a58-4b2d-b54a-6cbfbcd6a076",
   "metadata": {},
   "outputs": [
    {
     "name": "stdout",
     "output_type": "stream",
     "text": [
      "tensor([-1.0000, -0.7778, -0.5556, -0.3333, -0.1111,  0.1111,  0.3333,  0.5556,\n",
      "         0.7778,  1.0000])\n"
     ]
    }
   ],
   "source": [
    "import torch\n",
    "a = torch.linspace(-1, 1, 10)\n",
    "print(a)"
   ]
  },
  {
   "cell_type": "code",
   "execution_count": 3,
   "id": "ecc6af54-5ba4-49cc-a1a0-03cb689365d3",
   "metadata": {},
   "outputs": [
    {
     "name": "stdout",
     "output_type": "stream",
     "text": [
      "tensor([[0.9106, 0.9658, 0.7207, 0.0508],\n",
      "        [0.2962, 0.2731, 0.0012, 0.2440],\n",
      "        [0.3257, 0.0132, 0.5924, 0.1216]])\n"
     ]
    }
   ],
   "source": [
    "import torch\n",
    "a = torch.rand(3,4)\n",
    "print(a)"
   ]
  },
  {
   "cell_type": "code",
   "execution_count": 4,
   "id": "44a3d3c0-72f7-4433-aa27-ec8e8411def7",
   "metadata": {},
   "outputs": [
    {
     "name": "stdout",
     "output_type": "stream",
     "text": [
      "tensor([[-0.8753,  0.3626, -0.9982,  0.0173],\n",
      "        [ 0.5748, -1.4338, -1.3449,  0.3395],\n",
      "        [ 1.2474, -0.3639,  1.0106, -0.1456]])\n"
     ]
    }
   ],
   "source": [
    "import torch\n",
    "a = torch.randn(3,4)\n",
    "print(a)"
   ]
  },
  {
   "cell_type": "code",
   "execution_count": 5,
   "id": "f410e057-9ce2-4f6f-aea7-abf8b0247c8b",
   "metadata": {},
   "outputs": [
    {
     "name": "stdout",
     "output_type": "stream",
     "text": [
      "tensor([[8, 8, 9, 5],\n",
      "        [7, 3, 3, 8],\n",
      "        [9, 5, 4, 6]])\n"
     ]
    }
   ],
   "source": [
    "import torch\n",
    "a = torch.randint(3, 10, size=(3,4))\n",
    "print(a)"
   ]
  },
  {
   "cell_type": "code",
   "execution_count": 6,
   "id": "cf655c90-2d0e-47af-9778-d84da604c885",
   "metadata": {},
   "outputs": [
    {
     "name": "stdout",
     "output_type": "stream",
     "text": [
      "tensor([[6, 6, 6, 1],\n",
      "        [8, 6, 8, 9],\n",
      "        [2, 3, 6, 4]])\n"
     ]
    }
   ],
   "source": [
    "import torch\n",
    "a = torch.randint(10, size=(3,4))\n",
    "print(a)"
   ]
  },
  {
   "cell_type": "code",
   "execution_count": 7,
   "id": "2459db57-ed86-4a14-a9cc-ba9377c53cc5",
   "metadata": {},
   "outputs": [
    {
     "name": "stdout",
     "output_type": "stream",
     "text": [
      "tensor([[[0., 0., 0., 0.],\n",
      "         [0., 0., 0., 0.],\n",
      "         [0., 0., 0., 0.]],\n",
      "\n",
      "        [[0., 0., 0., 0.],\n",
      "         [0., 0., 0., 0.],\n",
      "         [0., 0., 0., 0.]]])\n"
     ]
    }
   ],
   "source": [
    "import torch\n",
    "a = torch.zeros(2, 3, 4)\n",
    "print(a)"
   ]
  },
  {
   "cell_type": "code",
   "execution_count": 8,
   "id": "eac9eb25-e479-4e31-bd20-ca8fc1f544ef",
   "metadata": {},
   "outputs": [
    {
     "name": "stdout",
     "output_type": "stream",
     "text": [
      "tensor([[[5, 5, 5, 5],\n",
      "         [5, 5, 5, 5],\n",
      "         [5, 5, 5, 5]],\n",
      "\n",
      "        [[5, 5, 5, 5],\n",
      "         [5, 5, 5, 5],\n",
      "         [5, 5, 5, 5]]])\n"
     ]
    }
   ],
   "source": [
    "import torch\n",
    "a = torch.full((2,3,4), 5)\n",
    "print(a)"
   ]
  },
  {
   "cell_type": "code",
   "execution_count": 9,
   "id": "53cdcfc4-300a-4993-be39-7e0c6a9c82bc",
   "metadata": {},
   "outputs": [
    {
     "name": "stdout",
     "output_type": "stream",
     "text": [
      "tensor([[[1., 1., 1., 1.],\n",
      "         [1., 1., 1., 1.],\n",
      "         [1., 1., 1., 1.]],\n",
      "\n",
      "        [[1., 1., 1., 1.],\n",
      "         [1., 1., 1., 1.],\n",
      "         [1., 1., 1., 1.]]])\n"
     ]
    }
   ],
   "source": [
    "import torch\n",
    "a = torch.ones(2,3,4)\n",
    "print(a)"
   ]
  },
  {
   "cell_type": "code",
   "execution_count": 10,
   "id": "2b0cd993-86f2-426c-bfc5-fbfb8a6c5966",
   "metadata": {},
   "outputs": [
    {
     "name": "stdout",
     "output_type": "stream",
     "text": [
      "tensor([[1., 0., 0., 0.],\n",
      "        [0., 1., 0., 0.],\n",
      "        [0., 0., 1., 0.],\n",
      "        [0., 0., 0., 1.]])\n"
     ]
    }
   ],
   "source": [
    "import torch\n",
    "a = torch.eye(4)\n",
    "print(a)"
   ]
  },
  {
   "cell_type": "code",
   "execution_count": 11,
   "id": "5067ecfe-cacc-412d-88b2-bc1b85c0fde5",
   "metadata": {},
   "outputs": [
    {
     "name": "stdout",
     "output_type": "stream",
     "text": [
      "torch.Size([2, 3, 4])\n",
      "torch.Size([2, 3, 4])\n"
     ]
    }
   ],
   "source": [
    "import torch\n",
    "a = torch.zeros(2, 3, 4)\n",
    "print(a.shape)\n",
    "print(a.size())"
   ]
  },
  {
   "cell_type": "code",
   "execution_count": 12,
   "id": "3f973b6f-5146-450f-8503-2918be7899e1",
   "metadata": {},
   "outputs": [
    {
     "name": "stdout",
     "output_type": "stream",
     "text": [
      "torch.Size([2, 3, 4])\n",
      "torch.Size([2, 3, 4])\n"
     ]
    }
   ],
   "source": [
    "import torch\n",
    "a = torch.zeros(2, 3, 4)\n",
    "print(a.shape)\n",
    "print(a.size())"
   ]
  },
  {
   "cell_type": "code",
   "execution_count": 13,
   "id": "a9e69ae1-be08-41fa-8553-14f141f726b1",
   "metadata": {},
   "outputs": [
    {
     "name": "stdout",
     "output_type": "stream",
     "text": [
      "3\n"
     ]
    }
   ],
   "source": [
    "import torch\n",
    "a = torch.zeros(2, 3, 4)\n",
    "print(a.ndim)"
   ]
  },
  {
   "cell_type": "code",
   "execution_count": 14,
   "id": "e8fde0dc-c3aa-4e49-b021-c1601adc9f90",
   "metadata": {},
   "outputs": [
    {
     "name": "stdout",
     "output_type": "stream",
     "text": [
      "2\n"
     ]
    }
   ],
   "source": [
    "import torch\n",
    "a = torch.zeros(2, 3, 4)\n",
    "print(len(a))"
   ]
  },
  {
   "cell_type": "code",
   "execution_count": 15,
   "id": "bbd3a7ff-b174-4f0f-a2ad-546440e2d845",
   "metadata": {},
   "outputs": [
    {
     "name": "stdout",
     "output_type": "stream",
     "text": [
      "torch.float32\n"
     ]
    }
   ],
   "source": [
    "import torch\n",
    "a = torch.zeros(2, 3, 4)\n",
    "print(a.dtype)"
   ]
  },
  {
   "cell_type": "code",
   "execution_count": 16,
   "id": "87cad1eb-d9a2-4d34-8dd0-15207f7d776b",
   "metadata": {},
   "outputs": [
    {
     "name": "stdout",
     "output_type": "stream",
     "text": [
      "torch.float32\n",
      "torch.int32\n"
     ]
    }
   ],
   "source": [
    "import torch\n",
    "a = torch.zeros(2, 3, 4)\n",
    "b = a.type(torch.int32)\n",
    "print(a.dtype)\n",
    "print(b.dtype)"
   ]
  },
  {
   "cell_type": "code",
   "execution_count": 17,
   "id": "cf6ab58e-820f-44c0-8a52-02ab461edc95",
   "metadata": {},
   "outputs": [
    {
     "name": "stdout",
     "output_type": "stream",
     "text": [
      "tensor([[[-0.9052, -0.6610, -1.4753,  1.4577, -0.9539],\n",
      "         [ 0.2726,  0.6008, -1.4087, -2.3441, -0.1081],\n",
      "         [-1.3323, -0.8763, -0.1875,  0.2993, -1.3787],\n",
      "         [-0.4889, -1.6824, -1.7948,  0.1996,  0.8502]],\n",
      "\n",
      "        [[ 0.8399,  0.3186, -1.1640, -0.6596, -0.7094],\n",
      "         [-0.2520, -0.8516, -1.6511, -0.6303,  0.1623],\n",
      "         [-0.8515, -0.6394,  0.4850, -0.1015,  0.1301],\n",
      "         [-0.7989,  1.0747, -0.8461,  1.3353, -1.1586]],\n",
      "\n",
      "        [[ 0.6809, -1.9761, -0.6979, -0.6897,  0.6027],\n",
      "         [ 0.2671,  0.7514,  1.1401,  1.0677, -0.0669],\n",
      "         [-0.1178, -1.0199, -1.7064, -0.5079,  0.2632],\n",
      "         [-1.0902,  0.5334, -1.9930, -0.0967, -0.0088]]])\n"
     ]
    }
   ],
   "source": [
    "import torch\n",
    "a = torch.randn(3,4,5)\n",
    "print(a)"
   ]
  },
  {
   "cell_type": "code",
   "execution_count": 18,
   "id": "d4f2154c-9f33-4fb3-80b8-58496343f51c",
   "metadata": {},
   "outputs": [
    {
     "name": "stdout",
     "output_type": "stream",
     "text": [
      "tensor([[[-0.8925, -1.7286,  0.5537, -0.2027, -0.5581],\n",
      "         [ 0.6581, -2.4330, -1.1947, -0.6524, -1.1140],\n",
      "         [-1.0761,  1.8084, -0.9315, -0.0490, -0.7119],\n",
      "         [-0.0952,  0.3063, -0.4900, -1.4745, -0.7054]],\n",
      "\n",
      "        [[-1.4231,  0.4714,  0.1329, -1.7768,  0.3669],\n",
      "         [ 1.9575, -0.3662,  1.6436, -0.1418,  2.0764],\n",
      "         [ 0.8061,  0.1376, -2.0499, -0.9899, -0.2721],\n",
      "         [ 1.6550,  0.6887, -1.1845,  0.5528, -1.5345]],\n",
      "\n",
      "        [[ 0.4045, -0.6399,  0.5677,  0.9356, -0.2312],\n",
      "         [ 0.4145, -0.5022, -2.0844,  1.9006, -0.6685],\n",
      "         [ 1.2025,  0.1772,  0.5407, -1.5444, -0.0823],\n",
      "         [-0.0223,  0.6645,  1.1577,  0.3977,  0.5596]]])\n",
      "tensor([[-1.4231,  0.4714,  0.1329, -1.7768,  0.3669],\n",
      "        [ 1.9575, -0.3662,  1.6436, -0.1418,  2.0764],\n",
      "        [ 0.8061,  0.1376, -2.0499, -0.9899, -0.2721],\n",
      "        [ 1.6550,  0.6887, -1.1845,  0.5528, -1.5345]])\n"
     ]
    }
   ],
   "source": [
    "import torch\n",
    "a = torch.randn(3,4,5)\n",
    "print(a)\n",
    "print(a[1])"
   ]
  },
  {
   "cell_type": "code",
   "execution_count": 19,
   "id": "f6121c32-c3fb-4c99-b720-9e4c77deb3a8",
   "metadata": {},
   "outputs": [
    {
     "name": "stdout",
     "output_type": "stream",
     "text": [
      "tensor([[[ 0.3256, -0.7917,  0.4358,  0.6991,  0.2874],\n",
      "         [-1.0274, -0.0968, -0.4584,  1.1036,  0.1943],\n",
      "         [-1.6825,  0.9952,  0.8378,  1.4208,  0.9234],\n",
      "         [ 2.0475,  0.4257, -0.5434, -0.4868, -1.8695]],\n",
      "\n",
      "        [[-0.6175,  0.5665,  0.2104, -2.6057,  1.3916],\n",
      "         [-0.8109, -0.4705,  0.7020, -0.3140,  2.6800],\n",
      "         [ 0.7425, -0.5055, -0.6863, -0.1969,  0.3796],\n",
      "         [-1.1579,  0.5342,  1.1177, -1.6662, -0.7281]],\n",
      "\n",
      "        [[-0.0351, -0.4017,  0.5972,  0.8692,  0.0654],\n",
      "         [-1.6295, -0.2976,  0.1009, -0.9068, -1.8245],\n",
      "         [-1.0806, -1.5656,  1.3698,  0.5280, -0.3302],\n",
      "         [ 0.2242,  0.5044,  1.2398, -0.3688, -1.5030]]])\n",
      "tensor([[[ 0.7425, -0.5055, -0.6863, -0.1969,  0.3796],\n",
      "         [-1.1579,  0.5342,  1.1177, -1.6662, -0.7281]],\n",
      "\n",
      "        [[-1.0806, -1.5656,  1.3698,  0.5280, -0.3302],\n",
      "         [ 0.2242,  0.5044,  1.2398, -0.3688, -1.5030]]])\n"
     ]
    }
   ],
   "source": [
    "import torch\n",
    "a = torch.randn(3,4,5)\n",
    "print(a)\n",
    "print(a[1:, 2:4])"
   ]
  },
  {
   "cell_type": "code",
   "execution_count": 20,
   "id": "29dd678f-5c2c-4057-92ce-bb19fc46706a",
   "metadata": {},
   "outputs": [
    {
     "name": "stdout",
     "output_type": "stream",
     "text": [
      "tensor([[[ 0.3990, -2.0785, -0.5009, -0.2367,  0.9503],\n",
      "         [-0.6587,  0.2589,  0.9660,  1.2761, -0.8621],\n",
      "         [ 0.2977, -0.3140, -0.7156, -1.1456,  1.0825],\n",
      "         [-1.7327,  0.2015, -3.0135, -0.8271,  0.6363]],\n",
      "\n",
      "        [[ 0.2033, -0.2312,  0.1269,  3.3219, -0.6579],\n",
      "         [-1.2189, -0.5636,  1.6760, -1.2951, -0.4658],\n",
      "         [-0.9911,  0.7130, -0.7271, -1.0968,  0.8316],\n",
      "         [ 0.6432,  0.8200, -0.7724,  1.6419,  0.8102]],\n",
      "\n",
      "        [[ 1.4380, -1.7483, -0.7106,  0.0411, -0.3710],\n",
      "         [ 0.1929, -2.0073, -0.9794, -1.4790,  2.0803],\n",
      "         [ 0.6713,  1.4788,  0.4919, -0.7207, -1.1359],\n",
      "         [-1.0546,  0.0433, -0.4026,  0.1114, -0.8051]]])\n",
      "torch.Size([3, 1, 4, 1, 5])\n"
     ]
    }
   ],
   "source": [
    "import torch\n",
    "a = torch.randn(3,4,5)\n",
    "print(a)\n",
    "print(a[:, None, :, None].shape)"
   ]
  },
  {
   "cell_type": "code",
   "execution_count": 21,
   "id": "318e6f07-3a8d-4cba-8ead-0d8b9e8a394f",
   "metadata": {},
   "outputs": [
    {
     "name": "stdout",
     "output_type": "stream",
     "text": [
      "torch.Size([3, 4, 5])\n",
      "torch.Size([3, 4, 1, 5])\n"
     ]
    }
   ],
   "source": [
    "import torch\n",
    "a = torch.randn(3,4,5)\n",
    "b = torch.unsqueeze(a, dim=2)\n",
    "print(a.shape)\n",
    "print(b.shape)"
   ]
  },
  {
   "cell_type": "code",
   "execution_count": 22,
   "id": "19bc99d6-2af1-4cde-a2bf-b196fdaeb942",
   "metadata": {},
   "outputs": [
    {
     "name": "stdout",
     "output_type": "stream",
     "text": [
      "tensor([[ 0.9358,  1.3662,  0.6332, -1.2814],\n",
      "        [-2.9179,  0.1243, -0.4656,  1.3730],\n",
      "        [-0.7992,  0.2039, -0.6329, -0.3922]])\n",
      "tensor([[ 1.3662,  0.6332],\n",
      "        [ 0.1243, -0.4656],\n",
      "        [ 0.2039, -0.6329]])\n"
     ]
    }
   ],
   "source": [
    "import torch\n",
    "a = torch.randn(3,4)\n",
    "print(a)\n",
    "print(a[:, (a > -1).all(axis=0)])"
   ]
  },
  {
   "cell_type": "code",
   "execution_count": 23,
   "id": "47108d5a-9d50-4470-bdf9-9c725e6f2add",
   "metadata": {},
   "outputs": [
    {
     "name": "stdout",
     "output_type": "stream",
     "text": [
      "tensor([[-0.0647,  0.7601,  0.1197,  0.7736],\n",
      "        [-1.3061,  1.0992,  0.2055,  0.5907],\n",
      "        [-0.9918,  1.2611, -0.1345, -1.0298]])\n",
      "tensor([[ 0.7601, -0.0647, -0.0647,  0.7601],\n",
      "        [ 1.0992, -1.3061, -1.3061,  1.0992],\n",
      "        [ 1.2611, -0.9918, -0.9918,  1.2611]])\n"
     ]
    }
   ],
   "source": [
    "import torch\n",
    "a = torch.randn(3,4)\n",
    "print(a)\n",
    "print(a[:, [1,0,0,1]])"
   ]
  },
  {
   "cell_type": "code",
   "execution_count": 24,
   "id": "ff5d8cdd-2b53-4690-8341-250a7036d8be",
   "metadata": {},
   "outputs": [
    {
     "name": "stdout",
     "output_type": "stream",
     "text": [
      "tensor([[ 1.6895, -0.6829, -1.2877, -0.4646],\n",
      "        [-0.8258, -0.3087,  0.6710, -1.2514],\n",
      "        [ 2.2484, -0.9899, -0.6311, -0.0721]])\n",
      "tensor([ 1.6895, -0.6829, -1.2877, -0.4646, -0.8258, -0.3087,  0.6710, -1.2514,\n",
      "         2.2484, -0.9899, -0.6311, -0.0721])\n"
     ]
    }
   ],
   "source": [
    "import torch\n",
    "a = torch.randn(3,4)\n",
    "print(a)\n",
    "print(a.ravel())"
   ]
  },
  {
   "cell_type": "code",
   "execution_count": 25,
   "id": "2fa1d097-e7b7-4556-8be6-39a53c272058",
   "metadata": {},
   "outputs": [
    {
     "name": "stdout",
     "output_type": "stream",
     "text": [
      "tensor([[-0.2363, -1.3105,  0.0802, -1.6061],\n",
      "        [ 0.8676, -0.2772, -1.3186,  0.9434],\n",
      "        [ 0.3752, -1.5436, -1.3148,  0.7299]])\n",
      "tensor([-0.2363, -1.3105,  0.0802, -1.6061,  0.8676, -0.2772, -1.3186,  0.9434,\n",
      "         0.3752, -1.5436, -1.3148,  0.7299])\n"
     ]
    }
   ],
   "source": [
    "import torch\n",
    "a = torch.randn(3,4)\n",
    "print(a)\n",
    "print(a.reshape(-1))"
   ]
  },
  {
   "cell_type": "code",
   "execution_count": 26,
   "id": "67d2a307-6b62-44a0-a9c0-ba27be672adf",
   "metadata": {},
   "outputs": [
    {
     "name": "stdout",
     "output_type": "stream",
     "text": [
      "tensor([[ 0.2913,  0.1363,  0.5490, -0.3372],\n",
      "        [ 0.4855, -1.4106,  0.3460, -1.4702],\n",
      "        [-1.0590, -0.3552,  1.3861, -0.9552]])\n",
      "tensor([[[ 0.2913,  0.1363],\n",
      "         [ 0.5490, -0.3372]],\n",
      "\n",
      "        [[ 0.4855, -1.4106],\n",
      "         [ 0.3460, -1.4702]],\n",
      "\n",
      "        [[-1.0590, -0.3552],\n",
      "         [ 1.3861, -0.9552]]])\n"
     ]
    }
   ],
   "source": [
    "import torch\n",
    "a = torch.randn(3,4)\n",
    "print(a)\n",
    "print(a.reshape(3,2,2))"
   ]
  },
  {
   "cell_type": "code",
   "execution_count": 27,
   "id": "f97c2672-6471-4fd7-a253-2933c895063e",
   "metadata": {},
   "outputs": [
    {
     "name": "stdout",
     "output_type": "stream",
     "text": [
      "tensor([[ 0.6187,  0.5648, -0.2976,  0.4986],\n",
      "        [-0.8138, -0.4105,  1.7102, -1.6538],\n",
      "        [-1.8045, -0.0096, -1.1592,  1.2436]])\n",
      "tensor([[ 0.6187, -0.8138, -1.8045],\n",
      "        [ 0.5648, -0.4105, -0.0096],\n",
      "        [-0.2976,  1.7102, -1.1592],\n",
      "        [ 0.4986, -1.6538,  1.2436]])\n"
     ]
    }
   ],
   "source": [
    "import torch\n",
    "a = torch.randn(3,4)\n",
    "print(a)\n",
    "print(a.T)"
   ]
  },
  {
   "cell_type": "code",
   "execution_count": 28,
   "id": "225e3fe9-15ed-48e9-8263-7cb8c489b550",
   "metadata": {},
   "outputs": [
    {
     "name": "stdout",
     "output_type": "stream",
     "text": [
      "tensor([[ 1.7258, -1.4121,  0.6175, -0.3053],\n",
      "        [-0.4952, -0.3424,  1.3843,  1.1435],\n",
      "        [-0.3791, -0.6561,  0.0299,  0.5562]])\n",
      "tensor([[ 1.7258, -0.4952, -0.3791],\n",
      "        [-1.4121, -0.3424, -0.6561],\n",
      "        [ 0.6175,  1.3843,  0.0299],\n",
      "        [-0.3053,  1.1435,  0.5562]])\n"
     ]
    }
   ],
   "source": [
    "import torch\n",
    "a = torch.randn(3,4)\n",
    "print(a)\n",
    "print(a.T)"
   ]
  },
  {
   "cell_type": "code",
   "execution_count": 29,
   "id": "5112604d-f714-4926-99d4-6ffb47ea0b3e",
   "metadata": {},
   "outputs": [
    {
     "name": "stdout",
     "output_type": "stream",
     "text": [
      "tensor([[-1.1830, -0.4215,  1.4908],\n",
      "        [ 0.5652,  0.4646,  0.1923],\n",
      "        [-2.0611,  0.8266, -1.7769]])\n",
      "tensor([[-2.0617,  0.7068, -0.1873],\n",
      "        [-0.3563, -1.1593, -1.4898],\n",
      "        [ 0.6174, -0.2865,  0.5685]])\n",
      "tensor([[-1.1830, -0.4215,  1.4908],\n",
      "        [ 0.5652,  0.4646,  0.1923],\n",
      "        [-2.0611,  0.8266, -1.7769],\n",
      "        [-2.0617,  0.7068, -0.1873],\n",
      "        [-0.3563, -1.1593, -1.4898],\n",
      "        [ 0.6174, -0.2865,  0.5685]])\n"
     ]
    }
   ],
   "source": [
    "import torch\n",
    "a = torch.randn(3,3)\n",
    "b = torch.randn(3,3)\n",
    "print(a)\n",
    "print(b)\n",
    "print(torch.vstack([a,b]))"
   ]
  },
  {
   "cell_type": "code",
   "execution_count": 30,
   "id": "3d42ecc8-0ef2-486c-8add-772280f4324c",
   "metadata": {},
   "outputs": [
    {
     "name": "stdout",
     "output_type": "stream",
     "text": [
      "tensor([[-0.5303, -0.2629,  0.5077],\n",
      "        [-0.4788,  1.2553, -0.6467],\n",
      "        [-3.6099, -0.8485, -0.2728]])\n",
      "tensor([[ 1.4528,  2.3452,  1.6118],\n",
      "        [ 1.5532, -1.1360,  0.3834],\n",
      "        [ 0.7452,  0.4315, -1.4492]])\n",
      "tensor([[-0.5303, -0.2629,  0.5077],\n",
      "        [-0.4788,  1.2553, -0.6467],\n",
      "        [-3.6099, -0.8485, -0.2728],\n",
      "        [ 1.4528,  2.3452,  1.6118],\n",
      "        [ 1.5532, -1.1360,  0.3834],\n",
      "        [ 0.7452,  0.4315, -1.4492]])\n"
     ]
    }
   ],
   "source": [
    "import torch\n",
    "a = torch.randn(3,3)\n",
    "b = torch.randn(3,3)\n",
    "c = torch.concatenate([a, b])\n",
    "print(a)\n",
    "print(b)\n",
    "print(c)"
   ]
  },
  {
   "cell_type": "code",
   "execution_count": 31,
   "id": "0636c480-dddc-44a1-a000-62a817c00fcc",
   "metadata": {},
   "outputs": [
    {
     "name": "stdout",
     "output_type": "stream",
     "text": [
      "tensor([[ 0.5899,  0.4960, -0.5495],\n",
      "        [ 0.6104, -0.3334, -0.4252],\n",
      "        [ 0.4975,  1.3262,  0.8651]])\n",
      "tensor([[-1.2698,  0.5076,  0.5166],\n",
      "        [-1.2880, -1.1573,  0.4146],\n",
      "        [ 1.7367,  1.0277,  0.1778]])\n",
      "tensor([[ 0.5899,  0.4960, -0.5495],\n",
      "        [ 0.6104, -0.3334, -0.4252],\n",
      "        [ 0.4975,  1.3262,  0.8651],\n",
      "        [-1.2698,  0.5076,  0.5166],\n",
      "        [-1.2880, -1.1573,  0.4146],\n",
      "        [ 1.7367,  1.0277,  0.1778]])\n"
     ]
    }
   ],
   "source": [
    "import torch\n",
    "a = torch.randn(3,3)\n",
    "b = torch.randn(3,3)\n",
    "c = torch.concatenate([a, b])\n",
    "print(a)\n",
    "print(b)\n",
    "print(c)"
   ]
  },
  {
   "cell_type": "code",
   "execution_count": 32,
   "id": "a4a4dff6-1ac8-4cf9-b542-171049d9b8f0",
   "metadata": {},
   "outputs": [
    {
     "name": "stdout",
     "output_type": "stream",
     "text": [
      "tensor([[ 0.7283,  0.6986,  0.2257],\n",
      "        [ 0.5408,  1.3465,  0.6147],\n",
      "        [ 0.0345, -1.9646,  1.7291],\n",
      "        [-0.0321,  0.2753,  1.0789],\n",
      "        [-0.0882, -0.6564,  0.2305],\n",
      "        [ 0.6776, -0.5438,  1.1108]])\n",
      "(tensor([[ 0.7283,  0.6986,  0.2257],\n",
      "        [ 0.5408,  1.3465,  0.6147],\n",
      "        [ 0.0345, -1.9646,  1.7291]]), tensor([[-0.0321,  0.2753,  1.0789],\n",
      "        [-0.0882, -0.6564,  0.2305],\n",
      "        [ 0.6776, -0.5438,  1.1108]]))\n"
     ]
    }
   ],
   "source": [
    "import torch\n",
    "a = torch.randn(3,3)\n",
    "b = torch.randn(3,3)\n",
    "c = torch.concatenate([a, b])\n",
    "print(c)\n",
    "print(torch.split(c, 3, dim=0))"
   ]
  },
  {
   "cell_type": "code",
   "execution_count": 33,
   "id": "de72e7e3-7733-4be6-8755-2c7651ba3ba4",
   "metadata": {},
   "outputs": [
    {
     "name": "stdout",
     "output_type": "stream",
     "text": [
      "tensor([[ 1.1729,  0.8480, -1.8110],\n",
      "        [-0.0711, -0.7760,  1.1232]])\n",
      "exp = tensor([[3.2313, 2.3349, 0.1635],\n",
      "        [0.9313, 0.4603, 3.0747]])\n",
      "log = tensor([[ 0.1595, -0.1649,     nan],\n",
      "        [    nan,     nan,  0.1162]])\n",
      "sin = tensor([[ 0.9219,  0.7499, -0.9713],\n",
      "        [-0.0711, -0.7004,  0.9015]])\n",
      "arctan = tensor([[ 0.8648,  0.7033, -1.0663],\n",
      "        [-0.0710, -0.6599,  0.8434]])\n",
      "abs = tensor([[1.1729, 0.8480, 1.8110],\n",
      "        [0.0711, 0.7760, 1.1232]])\n",
      "square = tensor([[1.3757, 0.7191, 3.2796],\n",
      "        [0.0051, 0.6021, 1.2616]])\n",
      "sqrt = tensor([[1.0830, 0.9209,    nan],\n",
      "        [   nan,    nan, 1.0598]])\n",
      "ceil = tensor([[ 2.,  1., -1.],\n",
      "        [-0., -0.,  2.]])\n",
      "round = tensor([[ 1.,  1., -2.],\n",
      "        [-0., -1.,  1.]])\n",
      "clip = tensor([[0.9000, 0.8480, 0.1000],\n",
      "        [0.1000, 0.1000, 0.9000]])\n"
     ]
    }
   ],
   "source": [
    "import torch\n",
    "a = torch.randn(2,3)\n",
    "print(a)\n",
    "print(\"exp =\", torch.exp(a))\n",
    "print(\"log =\", torch.log(a))\n",
    "print(\"sin =\", torch.sin(a))\n",
    "print(\"arctan =\", torch.arctan(a))\n",
    "print(\"abs =\", torch.abs(a))\n",
    "print(\"square =\", torch.square(a))\n",
    "print(\"sqrt =\", torch.sqrt(a))\n",
    "print(\"ceil =\", torch.ceil(a))\n",
    "print(\"round =\", torch.round(a))\n",
    "print(\"clip =\", torch.clip(a, 0.1, 0.9))"
   ]
  },
  {
   "cell_type": "code",
   "execution_count": 34,
   "id": "b6945b88-451a-4ea1-8be7-32312bf90574",
   "metadata": {},
   "outputs": [
    {
     "name": "stdout",
     "output_type": "stream",
     "text": [
      "tensor([[1.0830, 0.9209,    nan],\n",
      "        [   nan,    nan, 1.0598]])\n",
      "tensor([[False, False,  True],\n",
      "        [ True,  True, False]])\n"
     ]
    }
   ],
   "source": [
    "import torch\n",
    "b = torch.sqrt(a)\n",
    "print(b)\n",
    "print(torch.isnan(b))"
   ]
  },
  {
   "cell_type": "code",
   "execution_count": 35,
   "id": "57a58f86-c7b8-4f03-8542-6143aa79bbe7",
   "metadata": {},
   "outputs": [
    {
     "name": "stdout",
     "output_type": "stream",
     "text": [
      "tensor([[-0.8212, -0.3027, -0.4340],\n",
      "        [ 0.1663,  0.0300,  0.8743]])\n",
      "tensor([[-0.8792,  0.9476, -0.6819],\n",
      "        [ 0.1332,  0.8845,  1.4165]])\n",
      "tensor([[-1.7004,  0.6449, -1.1159],\n",
      "        [ 0.2994,  0.9144,  2.2908]])\n",
      "tensor([[ 0.9340, -0.3194,  0.6364],\n",
      "        [ 1.2484,  0.0339,  0.6173]])\n",
      "tensor([[0.6743, 0.0916, 0.1883],\n",
      "        [0.0276, 0.0009, 0.7645]])\n"
     ]
    }
   ],
   "source": [
    "import torch\n",
    "a = torch.randn(2, 3)\n",
    "b = torch.randn(2, 3)\n",
    "print(a)\n",
    "print(b)\n",
    "print(a+b)\n",
    "print(a/b)\n",
    "print(a ** 2)"
   ]
  },
  {
   "cell_type": "code",
   "execution_count": 36,
   "id": "ecdd813d-e8bd-4ef5-87d2-74fb043a6532",
   "metadata": {},
   "outputs": [
    {
     "name": "stdout",
     "output_type": "stream",
     "text": [
      "tensor([[-2.6604, -0.7280],\n",
      "        [-0.8797,  0.0326]])\n",
      "tensor([[-2.6604, -0.7280],\n",
      "        [-0.8797,  0.0326]])\n"
     ]
    }
   ],
   "source": [
    "import torch\n",
    "a = torch.randn(2, 3)\n",
    "b = torch.randn(2, 3)\n",
    "print(torch.matmul(a, b.T))\n",
    "print(a @ b.T)"
   ]
  },
  {
   "cell_type": "code",
   "execution_count": 37,
   "id": "ec5e77b4-fb97-4f4f-aa7b-c3917b59df3a",
   "metadata": {},
   "outputs": [
    {
     "name": "stdout",
     "output_type": "stream",
     "text": [
      "tensor([-0.8968, -0.7735, -1.7098])\n",
      "tensor([0.6564, 0.3422, 0.3877])\n",
      "tensor(-1.5162)\n",
      "tensor(-1.5162)\n"
     ]
    }
   ],
   "source": [
    "import torch\n",
    "a = torch.randn(3)\n",
    "b = torch.randn(3)\n",
    "print(a)\n",
    "print(b)\n",
    "print(torch.dot(a, b))\n",
    "print(a @ b)"
   ]
  },
  {
   "cell_type": "code",
   "execution_count": 38,
   "id": "7a68090c-70f8-48b0-a51f-099e0839b142",
   "metadata": {},
   "outputs": [
    {
     "name": "stdout",
     "output_type": "stream",
     "text": [
      "tensor([[ 0.6987,  0.3769,  0.1178,  0.6638],\n",
      "        [-0.4769, -1.8749, -0.6628, -1.1807],\n",
      "        [-0.5660, -0.6108,  0.5689,  0.5388]])\n",
      "tensor([-0.1147, -0.7029,  0.0080,  0.0073])\n",
      "tensor([0.7059, 1.1287, 0.6232, 1.0308])\n",
      "tensor([[ 0.6987,  0.3769,  0.1178,  0.6638],\n",
      "        [ 0.2218, -1.4980, -0.5451, -0.5169],\n",
      "        [-0.3442, -2.1088,  0.0239,  0.0219]])\n",
      "tensor([[ 0.6987,  0.3769,  0.1178,  0.6638],\n",
      "        [-0.3332, -0.7067, -0.0781, -0.7838],\n",
      "        [ 0.1886,  0.4316, -0.0444, -0.4223]])\n"
     ]
    }
   ],
   "source": [
    "import torch\n",
    "a = torch.randn(3,4)\n",
    "print(a)\n",
    "print(torch.mean(a, dim=0))\n",
    "print(torch.std(a, dim=0))\n",
    "print(torch.cumsum(a, dim=0))\n",
    "print(torch.cumprod(a, dim=0))"
   ]
  },
  {
   "cell_type": "code",
   "execution_count": 39,
   "id": "c42de389-1f6f-4df6-b984-658e6e3274e5",
   "metadata": {},
   "outputs": [
    {
     "name": "stdout",
     "output_type": "stream",
     "text": [
      "tensor([[-0.2906, -0.0275,  0.2793, -1.0118],\n",
      "        [ 0.4705, -0.0978,  0.9259, -1.3871],\n",
      "        [-0.7481,  0.6195, -0.6975,  0.2261]])\n",
      "torch.return_types.linalg_svd(\n",
      "U=tensor([[ 0.4090, -0.5946,  0.6922],\n",
      "        [ 0.8168, -0.0996, -0.5682],\n",
      "        [-0.4068, -0.7978, -0.4449]]),\n",
      "S=tensor([2.1120, 1.0693, 0.2761]),\n",
      "Vh=tensor([[ 0.2698, -0.1625,  0.5465, -0.7760],\n",
      "        [ 0.6759, -0.4378,  0.2789,  0.5231],\n",
      "        [-0.4914, -0.8659, -0.0810, -0.0466],\n",
      "        [-0.4784,  0.1792,  0.7855,  0.3494]]))\n"
     ]
    }
   ],
   "source": [
    "import torch\n",
    "a = torch.randn(3,4)\n",
    "print(a)\n",
    "print(torch.linalg.svd(a))"
   ]
  },
  {
   "cell_type": "code",
   "execution_count": 40,
   "id": "6c7a28e6-a49c-400a-baad-5dd38dbeb39d",
   "metadata": {},
   "outputs": [
    {
     "name": "stdout",
     "output_type": "stream",
     "text": [
      "tensor([[ 0.2091,  0.1720, -1.7086,  0.1525],\n",
      "        [-0.7072,  0.5426, -0.2909, -1.7641],\n",
      "        [ 1.2363, -0.5535, -0.6034, -0.3002]])\n",
      "tensor([[ 0.0000,  0.2091,  0.1720, -1.7086,  0.1525,  0.0000],\n",
      "        [ 0.0000, -0.7072,  0.5426, -0.2909, -1.7641,  0.0000],\n",
      "        [ 0.0000,  1.2363, -0.5535, -0.6034, -0.3002,  0.0000],\n",
      "        [ 0.0000,  0.0000,  0.0000,  0.0000,  0.0000,  0.0000],\n",
      "        [ 0.0000,  0.0000,  0.0000,  0.0000,  0.0000,  0.0000]])\n"
     ]
    }
   ],
   "source": [
    "import torch\n",
    "a = torch.randn(3,4)\n",
    "b = torch.nn.functional.pad(a, (1,1,0,2), value=0)\n",
    "print(a)\n",
    "print(b)"
   ]
  },
  {
   "cell_type": "code",
   "execution_count": null,
   "id": "e195a4d7-7994-43e3-9109-d55255132b09",
   "metadata": {
    "tags": []
   },
   "outputs": [
    {
     "name": "stdout",
     "output_type": "stream",
     "text": [
      "tensor([[-1.0000, -0.9798, -0.9596,  ...,  0.9596,  0.9798,  1.0000],\n",
      "        [-1.0000, -0.9798, -0.9596,  ...,  0.9596,  0.9798,  1.0000],\n",
      "        [-1.0000, -0.9798, -0.9596,  ...,  0.9596,  0.9798,  1.0000],\n",
      "        ...,\n",
      "        [-1.0000, -0.9798, -0.9596,  ...,  0.9596,  0.9798,  1.0000],\n",
      "        [-1.0000, -0.9798, -0.9596,  ...,  0.9596,  0.9798,  1.0000],\n",
      "        [-1.0000, -0.9798, -0.9596,  ...,  0.9596,  0.9798,  1.0000]])\n"
     ]
    }
   ],
   "source": [
    "import matplotlib.pyplot as plt\n",
    "import torch\n",
    "\n",
    "# create tensors\n",
    "x = torch.linspace(-1, 1, 100)\n",
    "y = torch.linspace(-2, 2, 100)\n",
    "# create the surface\n",
    "xx, yy = torch.meshgrid(x, y, indexing=\"xy\")  # xy-indexing is matching numpy\n",
    "z = torch.sqrt(1 - xx**2 - (yy/2)**2)\n",
    "print(xx)\n",
    "\n",
    "fig = plt.figure(figsize=(8,8))\n",
    "ax = plt.axes(projection=\"3d\")\n",
    "ax.set_xlim([-2, 2])\n",
    "ax.set_ylim([-2, 2])\n",
    "ax.set_zlim([0, 2])\n",
    "ax.plot_surface(xx, yy, z, cmap=\"cividis\")\n",
    "ax.view_init(45, 35)\n",
    "plt.show()"
   ]
  }
 ],
 "metadata": {
  "kernelspec": {
   "display_name": "Python 3 (ipykernel)",
   "language": "python",
   "name": "python3"
  },
  "language_info": {
   "codemirror_mode": {
    "name": "ipython",
    "version": 3
   },
   "file_extension": ".py",
   "mimetype": "text/x-python",
   "name": "python",
   "nbconvert_exporter": "python",
   "pygments_lexer": "ipython3",
   "version": "3.11.5"
  }
 },
 "nbformat": 4,
 "nbformat_minor": 5
}
