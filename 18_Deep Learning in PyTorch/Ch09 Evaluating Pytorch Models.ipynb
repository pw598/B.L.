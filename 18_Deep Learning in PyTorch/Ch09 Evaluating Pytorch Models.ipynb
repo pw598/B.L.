{
 "cells": [
  {
   "cell_type": "code",
   "execution_count": 8,
   "id": "fc1ca4ae-0db3-4c98-a855-0b4ff8d407d3",
   "metadata": {
    "tags": []
   },
   "outputs": [],
   "source": [
    "import numpy as np\n",
    "data = np.loadtxt(\"pima-indians-diabetes.csv\", delimiter=\",\")"
   ]
  },
  {
   "cell_type": "code",
   "execution_count": 2,
   "id": "48891af9-ef00-42bf-8747-5a1e491336ea",
   "metadata": {},
   "outputs": [],
   "source": [
    "import numpy as np\n",
    "data = np.loadtxt(\"pima-indians-diabetes.csv\", delimiter=\",\")\n",
    "# find the boundary at 66% of total samples\n",
    "count = len(data)\n",
    "n_train = int(count * 0.66)\n",
    "# split the data at the boundary\n",
    "train_data = data[:n_train]\n",
    "test_data = data[n_train:]"
   ]
  },
  {
   "cell_type": "code",
   "execution_count": 3,
   "id": "e56c280c-f2d1-4e13-a179-06dab9a31137",
   "metadata": {},
   "outputs": [],
   "source": [
    "import numpy as np\n",
    "from sklearn.model_selection import train_test_split\n",
    "\n",
    "data = np.loadtxt(\"pima-indians-diabetes.csv\", delimiter=\",\")\n",
    "train_data, test_data = train_test_split(data, test_size=0.33)"
   ]
  },
  {
   "cell_type": "code",
   "execution_count": 4,
   "id": "4b132ed4-ace5-4b8b-bd35-ef5ce3a146d4",
   "metadata": {},
   "outputs": [],
   "source": [
    "import numpy as np\n",
    "from sklearn.model_selection import train_test_split\n",
    "\n",
    "data = np.loadtxt(\"pima-indians-diabetes.csv\", delimiter=\",\")\n",
    "train_data, test_data = train_test_split(data, test_size=0.33)"
   ]
  },
  {
   "cell_type": "code",
   "execution_count": 5,
   "id": "5f7a3c82-675c-4004-8ca1-21d49e95b318",
   "metadata": {},
   "outputs": [
    {
     "name": "stderr",
     "output_type": "stream",
     "text": [
      "Epoch 0: 100%|██████████| 51/51 [00:00<00:00, 284.11batch/s, loss=2.25] \n",
      "Epoch 1: 100%|██████████| 51/51 [00:00<00:00, 345.49batch/s, loss=1.14] \n",
      "Epoch 2: 100%|██████████| 51/51 [00:00<00:00, 326.21batch/s, loss=0.712]\n",
      "Epoch 3: 100%|██████████| 51/51 [00:00<00:00, 365.76batch/s, loss=0.574]\n",
      "Epoch 4: 100%|██████████| 51/51 [00:00<00:00, 363.34batch/s, loss=0.534]\n",
      "Epoch 5: 100%|██████████| 51/51 [00:00<00:00, 331.38batch/s, loss=0.531]\n",
      "Epoch 6: 100%|██████████| 51/51 [00:00<00:00, 347.30batch/s, loss=0.549]\n",
      "Epoch 7: 100%|██████████| 51/51 [00:00<00:00, 307.20batch/s, loss=0.576]\n",
      "Epoch 8: 100%|██████████| 51/51 [00:00<00:00, 299.17batch/s, loss=0.601]\n",
      "Epoch 9: 100%|██████████| 51/51 [00:00<00:00, 383.56batch/s, loss=0.617]\n",
      "Epoch 10: 100%|██████████| 51/51 [00:00<00:00, 334.99batch/s, loss=0.627]\n",
      "Epoch 11: 100%|██████████| 51/51 [00:00<00:00, 393.42batch/s, loss=0.634]\n",
      "Epoch 12: 100%|██████████| 51/51 [00:00<00:00, 369.31batch/s, loss=0.637]\n",
      "Epoch 13: 100%|██████████| 51/51 [00:00<00:00, 382.39batch/s, loss=0.64] \n",
      "Epoch 14: 100%|██████████| 51/51 [00:00<00:00, 384.84batch/s, loss=0.643]\n",
      "Epoch 15: 100%|██████████| 51/51 [00:00<00:00, 384.31batch/s, loss=0.644]\n",
      "Epoch 16: 100%|██████████| 51/51 [00:00<00:00, 377.82batch/s, loss=0.646]\n",
      "Epoch 17: 100%|██████████| 51/51 [00:00<00:00, 313.06batch/s, loss=0.646]\n",
      "Epoch 18: 100%|██████████| 51/51 [00:00<00:00, 332.06batch/s, loss=0.647]\n",
      "Epoch 19: 100%|██████████| 51/51 [00:00<00:00, 350.73batch/s, loss=0.647]\n",
      "Epoch 20: 100%|██████████| 51/51 [00:00<00:00, 306.26batch/s, loss=0.646]\n",
      "Epoch 21: 100%|██████████| 51/51 [00:00<00:00, 375.86batch/s, loss=0.646]\n",
      "Epoch 22: 100%|██████████| 51/51 [00:00<00:00, 381.56batch/s, loss=0.645]\n",
      "Epoch 23: 100%|██████████| 51/51 [00:00<00:00, 329.34batch/s, loss=0.645]\n",
      "Epoch 24: 100%|██████████| 51/51 [00:00<00:00, 368.99batch/s, loss=0.644]\n",
      "Epoch 25: 100%|██████████| 51/51 [00:00<00:00, 385.12batch/s, loss=0.643]\n",
      "Epoch 26: 100%|██████████| 51/51 [00:00<00:00, 348.28batch/s, loss=0.642]\n",
      "Epoch 27: 100%|██████████| 51/51 [00:00<00:00, 403.85batch/s, loss=0.641]\n",
      "Epoch 28: 100%|██████████| 51/51 [00:00<00:00, 385.41batch/s, loss=0.64] \n",
      "Epoch 29: 100%|██████████| 51/51 [00:00<00:00, 376.99batch/s, loss=0.639]\n",
      "Epoch 30: 100%|██████████| 51/51 [00:00<00:00, 367.92batch/s, loss=0.637]\n",
      "Epoch 31: 100%|██████████| 51/51 [00:00<00:00, 378.75batch/s, loss=0.636]\n",
      "Epoch 32: 100%|██████████| 51/51 [00:00<00:00, 366.99batch/s, loss=0.635]\n",
      "Epoch 33: 100%|██████████| 51/51 [00:00<00:00, 335.26batch/s, loss=0.634]\n",
      "Epoch 34: 100%|██████████| 51/51 [00:00<00:00, 323.56batch/s, loss=0.634]\n",
      "Epoch 35: 100%|██████████| 51/51 [00:00<00:00, 354.62batch/s, loss=0.633]\n",
      "Epoch 36: 100%|██████████| 51/51 [00:00<00:00, 368.03batch/s, loss=0.632]\n",
      "Epoch 37: 100%|██████████| 51/51 [00:00<00:00, 357.85batch/s, loss=0.631]\n",
      "Epoch 38: 100%|██████████| 51/51 [00:00<00:00, 257.42batch/s, loss=0.63] \n",
      "Epoch 39: 100%|██████████| 51/51 [00:00<00:00, 334.00batch/s, loss=0.629]\n",
      "Epoch 40: 100%|██████████| 51/51 [00:00<00:00, 313.21batch/s, loss=0.629]\n",
      "Epoch 41: 100%|██████████| 51/51 [00:00<00:00, 382.93batch/s, loss=0.628]\n",
      "Epoch 42: 100%|██████████| 51/51 [00:00<00:00, 349.12batch/s, loss=0.627]\n",
      "Epoch 43: 100%|██████████| 51/51 [00:00<00:00, 346.17batch/s, loss=0.626]\n",
      "Epoch 44: 100%|██████████| 51/51 [00:00<00:00, 394.11batch/s, loss=0.625]\n",
      "Epoch 45: 100%|██████████| 51/51 [00:00<00:00, 313.29batch/s, loss=0.624]\n",
      "Epoch 46: 100%|██████████| 51/51 [00:00<00:00, 355.19batch/s, loss=0.623]\n",
      "Epoch 47: 100%|██████████| 51/51 [00:00<00:00, 331.90batch/s, loss=0.622]\n",
      "Epoch 48: 100%|██████████| 51/51 [00:00<00:00, 346.35batch/s, loss=0.621]\n",
      "Epoch 49: 100%|██████████| 51/51 [00:00<00:00, 345.74batch/s, loss=0.621]\n"
     ]
    }
   ],
   "source": [
    "import numpy as np\n",
    "import torch\n",
    "import torch.nn as nn\n",
    "import torch.optim as optim\n",
    "import tqdm\n",
    "from sklearn.model_selection import train_test_split\n",
    "\n",
    "data = np.loadtxt(\"pima-indians-diabetes.csv\", delimiter=\",\")\n",
    "X = data[:, 0:8]\n",
    "y = data[:, 8]\n",
    "X = torch.tensor(X, dtype=torch.float32)\n",
    "y = torch.tensor(y, dtype=torch.float32).reshape(-1, 1)\n",
    "X_train, X_test, y_train, y_test = train_test_split(X, y, test_size=0.33)\n",
    "\n",
    "model = nn.Sequential(\n",
    "    nn.Linear(8, 12),\n",
    "    nn.ReLU(),\n",
    "    nn.Linear(12, 8),\n",
    "    nn.ReLU(),\n",
    "    nn.Linear(8, 1),\n",
    "    nn.Sigmoid()\n",
    ")\n",
    "\n",
    "# loss function and optimizer\n",
    "loss_fn = nn.BCELoss()  # binary cross entropy\n",
    "optimizer = optim.Adam(model.parameters(), lr=0.0001)\n",
    "\n",
    "n_epochs = 50    # number of epochs to run\n",
    "batch_size = 10  # size of each batch\n",
    "batches_per_epoch = len(X_train) // batch_size\n",
    "\n",
    "for epoch in range(n_epochs):\n",
    "    with tqdm.trange(batches_per_epoch, unit=\"batch\", mininterval=0) as bar:\n",
    "        bar.set_description(f\"Epoch {epoch}\")\n",
    "        for i in bar:\n",
    "            # take a batch\n",
    "            start = i * batch_size\n",
    "            X_batch = X_train[start:start+batch_size]\n",
    "            y_batch = y_train[start:start+batch_size]\n",
    "            # forward pass\n",
    "            y_pred = model(X_batch)\n",
    "            loss = loss_fn(y_pred, y_batch)\n",
    "            # backward pass\n",
    "            optimizer.zero_grad()\n",
    "            loss.backward()\n",
    "            # update weights\n",
    "            optimizer.step()\n",
    "            # print progress\n",
    "            bar.set_postfix(\n",
    "                loss=float(loss)\n",
    "            )"
   ]
  },
  {
   "cell_type": "code",
   "execution_count": 6,
   "id": "ee2aa0e8-3121-4fde-8118-ec461de9c006",
   "metadata": {},
   "outputs": [
    {
     "name": "stderr",
     "output_type": "stream",
     "text": [
      "Epoch 0: 100%|██████████| 51/51 [00:00<00:00, 342.48batch/s, acc=0.6, loss=0.888]\n"
     ]
    },
    {
     "name": "stdout",
     "output_type": "stream",
     "text": [
      "End of 0, accuracy 0.3425196707248688\n"
     ]
    },
    {
     "name": "stderr",
     "output_type": "stream",
     "text": [
      "Epoch 1: 100%|██████████| 51/51 [00:00<00:00, 366.14batch/s, acc=0.5, loss=0.889]\n"
     ]
    },
    {
     "name": "stdout",
     "output_type": "stream",
     "text": [
      "End of 1, accuracy 0.35039371252059937\n"
     ]
    },
    {
     "name": "stderr",
     "output_type": "stream",
     "text": [
      "Epoch 2: 100%|██████████| 51/51 [00:00<00:00, 328.53batch/s, acc=0.5, loss=0.948]\n"
     ]
    },
    {
     "name": "stdout",
     "output_type": "stream",
     "text": [
      "End of 2, accuracy 0.3937007784843445\n"
     ]
    },
    {
     "name": "stderr",
     "output_type": "stream",
     "text": [
      "Epoch 3: 100%|██████████| 51/51 [00:00<00:00, 346.85batch/s, acc=0.5, loss=0.994]\n"
     ]
    },
    {
     "name": "stdout",
     "output_type": "stream",
     "text": [
      "End of 3, accuracy 0.437007874250412\n"
     ]
    },
    {
     "name": "stderr",
     "output_type": "stream",
     "text": [
      "Epoch 4: 100%|██████████| 51/51 [00:00<00:00, 380.93batch/s, acc=0.4, loss=0.996]\n"
     ]
    },
    {
     "name": "stdout",
     "output_type": "stream",
     "text": [
      "End of 4, accuracy 0.4685039222240448\n"
     ]
    },
    {
     "name": "stderr",
     "output_type": "stream",
     "text": [
      "Epoch 5: 100%|██████████| 51/51 [00:00<00:00, 374.38batch/s, acc=0.4, loss=0.979]\n"
     ]
    },
    {
     "name": "stdout",
     "output_type": "stream",
     "text": [
      "End of 5, accuracy 0.4763779640197754\n"
     ]
    },
    {
     "name": "stderr",
     "output_type": "stream",
     "text": [
      "Epoch 6: 100%|██████████| 51/51 [00:00<00:00, 345.56batch/s, acc=0.5, loss=0.973]\n"
     ]
    },
    {
     "name": "stdout",
     "output_type": "stream",
     "text": [
      "End of 6, accuracy 0.4842519760131836\n"
     ]
    },
    {
     "name": "stderr",
     "output_type": "stream",
     "text": [
      "Epoch 7: 100%|██████████| 51/51 [00:00<00:00, 354.70batch/s, acc=0.6, loss=0.982]\n"
     ]
    },
    {
     "name": "stdout",
     "output_type": "stream",
     "text": [
      "End of 7, accuracy 0.4960629940032959\n"
     ]
    },
    {
     "name": "stderr",
     "output_type": "stream",
     "text": [
      "Epoch 8: 100%|██████████| 51/51 [00:00<00:00, 373.43batch/s, acc=0.4, loss=0.994]\n"
     ]
    },
    {
     "name": "stdout",
     "output_type": "stream",
     "text": [
      "End of 8, accuracy 0.5236220359802246\n"
     ]
    },
    {
     "name": "stderr",
     "output_type": "stream",
     "text": [
      "Epoch 9: 100%|██████████| 51/51 [00:00<00:00, 340.40batch/s, acc=0.4, loss=1.01] \n"
     ]
    },
    {
     "name": "stdout",
     "output_type": "stream",
     "text": [
      "End of 9, accuracy 0.5314960479736328\n"
     ]
    },
    {
     "name": "stderr",
     "output_type": "stream",
     "text": [
      "Epoch 10: 100%|██████████| 51/51 [00:00<00:00, 352.43batch/s, acc=0.3, loss=1.02] \n"
     ]
    },
    {
     "name": "stdout",
     "output_type": "stream",
     "text": [
      "End of 10, accuracy 0.5511810779571533\n"
     ]
    },
    {
     "name": "stderr",
     "output_type": "stream",
     "text": [
      "Epoch 11: 100%|██████████| 51/51 [00:00<00:00, 340.76batch/s, acc=0.3, loss=1.02] \n"
     ]
    },
    {
     "name": "stdout",
     "output_type": "stream",
     "text": [
      "End of 11, accuracy 0.5629921555519104\n"
     ]
    },
    {
     "name": "stderr",
     "output_type": "stream",
     "text": [
      "Epoch 12: 100%|██████████| 51/51 [00:00<00:00, 342.17batch/s, acc=0.3, loss=1.02] \n"
     ]
    },
    {
     "name": "stdout",
     "output_type": "stream",
     "text": [
      "End of 12, accuracy 0.5748031735420227\n"
     ]
    },
    {
     "name": "stderr",
     "output_type": "stream",
     "text": [
      "Epoch 13: 100%|██████████| 51/51 [00:00<00:00, 334.96batch/s, acc=0.3, loss=1.01] \n"
     ]
    },
    {
     "name": "stdout",
     "output_type": "stream",
     "text": [
      "End of 13, accuracy 0.5748031735420227\n"
     ]
    },
    {
     "name": "stderr",
     "output_type": "stream",
     "text": [
      "Epoch 14: 100%|██████████| 51/51 [00:00<00:00, 350.06batch/s, acc=0.3, loss=0.999]\n"
     ]
    },
    {
     "name": "stdout",
     "output_type": "stream",
     "text": [
      "End of 14, accuracy 0.5787401795387268\n"
     ]
    },
    {
     "name": "stderr",
     "output_type": "stream",
     "text": [
      "Epoch 15: 100%|██████████| 51/51 [00:00<00:00, 350.99batch/s, acc=0.3, loss=0.988]\n"
     ]
    },
    {
     "name": "stdout",
     "output_type": "stream",
     "text": [
      "End of 15, accuracy 0.5748031735420227\n"
     ]
    },
    {
     "name": "stderr",
     "output_type": "stream",
     "text": [
      "Epoch 16: 100%|██████████| 51/51 [00:00<00:00, 308.03batch/s, acc=0.3, loss=0.977]\n"
     ]
    },
    {
     "name": "stdout",
     "output_type": "stream",
     "text": [
      "End of 16, accuracy 0.5826771855354309\n"
     ]
    },
    {
     "name": "stderr",
     "output_type": "stream",
     "text": [
      "Epoch 17: 100%|██████████| 51/51 [00:00<00:00, 335.03batch/s, acc=0.3, loss=0.965]\n"
     ]
    },
    {
     "name": "stdout",
     "output_type": "stream",
     "text": [
      "End of 17, accuracy 0.5787401795387268\n"
     ]
    },
    {
     "name": "stderr",
     "output_type": "stream",
     "text": [
      "Epoch 18: 100%|██████████| 51/51 [00:00<00:00, 348.70batch/s, acc=0.3, loss=0.955]\n"
     ]
    },
    {
     "name": "stdout",
     "output_type": "stream",
     "text": [
      "End of 18, accuracy 0.586614191532135\n"
     ]
    },
    {
     "name": "stderr",
     "output_type": "stream",
     "text": [
      "Epoch 19: 100%|██████████| 51/51 [00:00<00:00, 327.36batch/s, acc=0.3, loss=0.945]\n"
     ]
    },
    {
     "name": "stdout",
     "output_type": "stream",
     "text": [
      "End of 19, accuracy 0.5984252095222473\n"
     ]
    },
    {
     "name": "stderr",
     "output_type": "stream",
     "text": [
      "Epoch 20: 100%|██████████| 51/51 [00:00<00:00, 323.52batch/s, acc=0.4, loss=0.935]\n"
     ]
    },
    {
     "name": "stdout",
     "output_type": "stream",
     "text": [
      "End of 20, accuracy 0.6102362275123596\n"
     ]
    },
    {
     "name": "stderr",
     "output_type": "stream",
     "text": [
      "Epoch 21: 100%|██████████| 51/51 [00:00<00:00, 337.55batch/s, acc=0.4, loss=0.925]\n"
     ]
    },
    {
     "name": "stdout",
     "output_type": "stream",
     "text": [
      "End of 21, accuracy 0.625984251499176\n"
     ]
    },
    {
     "name": "stderr",
     "output_type": "stream",
     "text": [
      "Epoch 22: 100%|██████████| 51/51 [00:00<00:00, 343.28batch/s, acc=0.6, loss=0.916]\n"
     ]
    },
    {
     "name": "stdout",
     "output_type": "stream",
     "text": [
      "End of 22, accuracy 0.6299212574958801\n"
     ]
    },
    {
     "name": "stderr",
     "output_type": "stream",
     "text": [
      "Epoch 23: 100%|██████████| 51/51 [00:00<00:00, 339.68batch/s, acc=0.6, loss=0.908]\n"
     ]
    },
    {
     "name": "stdout",
     "output_type": "stream",
     "text": [
      "End of 23, accuracy 0.6299212574958801\n"
     ]
    },
    {
     "name": "stderr",
     "output_type": "stream",
     "text": [
      "Epoch 24: 100%|██████████| 51/51 [00:00<00:00, 349.56batch/s, acc=0.6, loss=0.899]\n"
     ]
    },
    {
     "name": "stdout",
     "output_type": "stream",
     "text": [
      "End of 24, accuracy 0.6417322754859924\n"
     ]
    },
    {
     "name": "stderr",
     "output_type": "stream",
     "text": [
      "Epoch 25: 100%|██████████| 51/51 [00:00<00:00, 342.44batch/s, acc=0.6, loss=0.893]\n"
     ]
    },
    {
     "name": "stdout",
     "output_type": "stream",
     "text": [
      "End of 25, accuracy 0.6496062874794006\n"
     ]
    },
    {
     "name": "stderr",
     "output_type": "stream",
     "text": [
      "Epoch 26: 100%|██████████| 51/51 [00:00<00:00, 339.80batch/s, acc=0.6, loss=0.886]\n"
     ]
    },
    {
     "name": "stdout",
     "output_type": "stream",
     "text": [
      "End of 26, accuracy 0.6535432934761047\n"
     ]
    },
    {
     "name": "stderr",
     "output_type": "stream",
     "text": [
      "Epoch 27: 100%|██████████| 51/51 [00:00<00:00, 339.35batch/s, acc=0.6, loss=0.879]\n"
     ]
    },
    {
     "name": "stdout",
     "output_type": "stream",
     "text": [
      "End of 27, accuracy 0.6535432934761047\n"
     ]
    },
    {
     "name": "stderr",
     "output_type": "stream",
     "text": [
      "Epoch 28: 100%|██████████| 51/51 [00:00<00:00, 335.78batch/s, acc=0.6, loss=0.873]\n"
     ]
    },
    {
     "name": "stdout",
     "output_type": "stream",
     "text": [
      "End of 28, accuracy 0.6377952694892883\n"
     ]
    },
    {
     "name": "stderr",
     "output_type": "stream",
     "text": [
      "Epoch 29: 100%|██████████| 51/51 [00:00<00:00, 340.13batch/s, acc=0.7, loss=0.869]\n"
     ]
    },
    {
     "name": "stdout",
     "output_type": "stream",
     "text": [
      "End of 29, accuracy 0.6338582634925842\n"
     ]
    },
    {
     "name": "stderr",
     "output_type": "stream",
     "text": [
      "Epoch 30: 100%|██████████| 51/51 [00:00<00:00, 372.46batch/s, acc=0.7, loss=0.864]\n"
     ]
    },
    {
     "name": "stdout",
     "output_type": "stream",
     "text": [
      "End of 30, accuracy 0.6299212574958801\n"
     ]
    },
    {
     "name": "stderr",
     "output_type": "stream",
     "text": [
      "Epoch 31: 100%|██████████| 51/51 [00:00<00:00, 338.95batch/s, acc=0.7, loss=0.86] \n"
     ]
    },
    {
     "name": "stdout",
     "output_type": "stream",
     "text": [
      "End of 31, accuracy 0.6299212574958801\n"
     ]
    },
    {
     "name": "stderr",
     "output_type": "stream",
     "text": [
      "Epoch 32: 100%|██████████| 51/51 [00:00<00:00, 365.81batch/s, acc=0.7, loss=0.857]\n"
     ]
    },
    {
     "name": "stdout",
     "output_type": "stream",
     "text": [
      "End of 32, accuracy 0.625984251499176\n"
     ]
    },
    {
     "name": "stderr",
     "output_type": "stream",
     "text": [
      "Epoch 33: 100%|██████████| 51/51 [00:00<00:00, 364.58batch/s, acc=0.7, loss=0.853]\n"
     ]
    },
    {
     "name": "stdout",
     "output_type": "stream",
     "text": [
      "End of 33, accuracy 0.6417322754859924\n"
     ]
    },
    {
     "name": "stderr",
     "output_type": "stream",
     "text": [
      "Epoch 34: 100%|██████████| 51/51 [00:00<00:00, 373.01batch/s, acc=0.7, loss=0.851]\n"
     ]
    },
    {
     "name": "stdout",
     "output_type": "stream",
     "text": [
      "End of 34, accuracy 0.6456692814826965\n"
     ]
    },
    {
     "name": "stderr",
     "output_type": "stream",
     "text": [
      "Epoch 35: 100%|██████████| 51/51 [00:00<00:00, 366.74batch/s, acc=0.7, loss=0.849]\n"
     ]
    },
    {
     "name": "stdout",
     "output_type": "stream",
     "text": [
      "End of 35, accuracy 0.6417322754859924\n"
     ]
    },
    {
     "name": "stderr",
     "output_type": "stream",
     "text": [
      "Epoch 36: 100%|██████████| 51/51 [00:00<00:00, 354.85batch/s, acc=0.7, loss=0.847]\n"
     ]
    },
    {
     "name": "stdout",
     "output_type": "stream",
     "text": [
      "End of 36, accuracy 0.6417322754859924\n"
     ]
    },
    {
     "name": "stderr",
     "output_type": "stream",
     "text": [
      "Epoch 37: 100%|██████████| 51/51 [00:00<00:00, 332.30batch/s, acc=0.7, loss=0.846]\n"
     ]
    },
    {
     "name": "stdout",
     "output_type": "stream",
     "text": [
      "End of 37, accuracy 0.6417322754859924\n"
     ]
    },
    {
     "name": "stderr",
     "output_type": "stream",
     "text": [
      "Epoch 38: 100%|██████████| 51/51 [00:00<00:00, 330.21batch/s, acc=0.7, loss=0.846]\n"
     ]
    },
    {
     "name": "stdout",
     "output_type": "stream",
     "text": [
      "End of 38, accuracy 0.6456692814826965\n"
     ]
    },
    {
     "name": "stderr",
     "output_type": "stream",
     "text": [
      "Epoch 39: 100%|██████████| 51/51 [00:00<00:00, 308.73batch/s, acc=0.7, loss=0.845]\n"
     ]
    },
    {
     "name": "stdout",
     "output_type": "stream",
     "text": [
      "End of 39, accuracy 0.6377952694892883\n"
     ]
    },
    {
     "name": "stderr",
     "output_type": "stream",
     "text": [
      "Epoch 40: 100%|██████████| 51/51 [00:00<00:00, 335.39batch/s, acc=0.7, loss=0.844]\n"
     ]
    },
    {
     "name": "stdout",
     "output_type": "stream",
     "text": [
      "End of 40, accuracy 0.6338582634925842\n"
     ]
    },
    {
     "name": "stderr",
     "output_type": "stream",
     "text": [
      "Epoch 41: 100%|██████████| 51/51 [00:00<00:00, 352.07batch/s, acc=0.7, loss=0.844]\n"
     ]
    },
    {
     "name": "stdout",
     "output_type": "stream",
     "text": [
      "End of 41, accuracy 0.6377952694892883\n"
     ]
    },
    {
     "name": "stderr",
     "output_type": "stream",
     "text": [
      "Epoch 42: 100%|██████████| 51/51 [00:00<00:00, 363.24batch/s, acc=0.7, loss=0.843]\n"
     ]
    },
    {
     "name": "stdout",
     "output_type": "stream",
     "text": [
      "End of 42, accuracy 0.6377952694892883\n"
     ]
    },
    {
     "name": "stderr",
     "output_type": "stream",
     "text": [
      "Epoch 43: 100%|██████████| 51/51 [00:00<00:00, 347.99batch/s, acc=0.7, loss=0.843]\n"
     ]
    },
    {
     "name": "stdout",
     "output_type": "stream",
     "text": [
      "End of 43, accuracy 0.6377952694892883\n"
     ]
    },
    {
     "name": "stderr",
     "output_type": "stream",
     "text": [
      "Epoch 44: 100%|██████████| 51/51 [00:00<00:00, 342.25batch/s, acc=0.7, loss=0.842]\n"
     ]
    },
    {
     "name": "stdout",
     "output_type": "stream",
     "text": [
      "End of 44, accuracy 0.6377952694892883\n"
     ]
    },
    {
     "name": "stderr",
     "output_type": "stream",
     "text": [
      "Epoch 45: 100%|██████████| 51/51 [00:00<00:00, 294.03batch/s, acc=0.7, loss=0.842]\n"
     ]
    },
    {
     "name": "stdout",
     "output_type": "stream",
     "text": [
      "End of 45, accuracy 0.6377952694892883\n"
     ]
    },
    {
     "name": "stderr",
     "output_type": "stream",
     "text": [
      "Epoch 46: 100%|██████████| 51/51 [00:00<00:00, 343.61batch/s, acc=0.7, loss=0.842]\n"
     ]
    },
    {
     "name": "stdout",
     "output_type": "stream",
     "text": [
      "End of 46, accuracy 0.6377952694892883\n"
     ]
    },
    {
     "name": "stderr",
     "output_type": "stream",
     "text": [
      "Epoch 47: 100%|██████████| 51/51 [00:00<00:00, 339.39batch/s, acc=0.7, loss=0.841]\n"
     ]
    },
    {
     "name": "stdout",
     "output_type": "stream",
     "text": [
      "End of 47, accuracy 0.6377952694892883\n"
     ]
    },
    {
     "name": "stderr",
     "output_type": "stream",
     "text": [
      "Epoch 48: 100%|██████████| 51/51 [00:00<00:00, 339.88batch/s, acc=0.7, loss=0.841]\n"
     ]
    },
    {
     "name": "stdout",
     "output_type": "stream",
     "text": [
      "End of 48, accuracy 0.6377952694892883\n"
     ]
    },
    {
     "name": "stderr",
     "output_type": "stream",
     "text": [
      "Epoch 49: 100%|██████████| 51/51 [00:00<00:00, 341.10batch/s, acc=0.7, loss=0.841]"
     ]
    },
    {
     "name": "stdout",
     "output_type": "stream",
     "text": [
      "End of 49, accuracy 0.6377952694892883\n"
     ]
    },
    {
     "name": "stderr",
     "output_type": "stream",
     "text": [
      "\n"
     ]
    }
   ],
   "source": [
    "import numpy as np\n",
    "import torch\n",
    "import torch.nn as nn\n",
    "import torch.optim as optim\n",
    "import tqdm\n",
    "from sklearn.model_selection import train_test_split\n",
    "\n",
    "data = np.loadtxt(\"pima-indians-diabetes.csv\", delimiter=\",\")\n",
    "X = data[:, 0:8]\n",
    "y = data[:, 8]\n",
    "X = torch.tensor(X, dtype=torch.float32)\n",
    "y = torch.tensor(y, dtype=torch.float32).reshape(-1, 1)\n",
    "X_train, X_test, y_train, y_test = train_test_split(X, y, test_size=0.33)\n",
    "\n",
    "model = nn.Sequential(\n",
    "    nn.Linear(8, 12),\n",
    "    nn.ReLU(),\n",
    "    nn.Linear(12, 8),\n",
    "    nn.ReLU(),\n",
    "    nn.Linear(8, 1),\n",
    "    nn.Sigmoid()\n",
    ")\n",
    "\n",
    "# loss function and optimizer\n",
    "loss_fn = nn.BCELoss()  # binary cross entropy\n",
    "optimizer = optim.Adam(model.parameters(), lr=0.0001)\n",
    "\n",
    "n_epochs = 50    # number of epochs to run\n",
    "batch_size = 10  # size of each batch\n",
    "batches_per_epoch = len(X_train) // batch_size\n",
    "\n",
    "for epoch in range(n_epochs):\n",
    "    with tqdm.trange(batches_per_epoch, unit=\"batch\", mininterval=0) as bar:\n",
    "        bar.set_description(f\"Epoch {epoch}\")\n",
    "        for i in bar:\n",
    "            # take a batch\n",
    "            start = i * batch_size\n",
    "            X_batch = X_train[start:start+batch_size]\n",
    "            y_batch = y_train[start:start+batch_size]\n",
    "            # forward pass\n",
    "            y_pred = model(X_batch)\n",
    "            loss = loss_fn(y_pred, y_batch)\n",
    "            # backward pass\n",
    "            optimizer.zero_grad()\n",
    "            loss.backward()\n",
    "            # update weights\n",
    "            optimizer.step()\n",
    "            # print progress\n",
    "            acc = (y_pred.round() == y_batch).float().mean()\n",
    "            bar.set_postfix(\n",
    "                loss=float(loss),\n",
    "                acc=float(acc)\n",
    "            )\n",
    "    # evaluate model at end of epoch\n",
    "    y_pred = model(X_test)\n",
    "    acc = (y_pred.round() == y_test).float().mean()\n",
    "    acc = float(acc)\n",
    "    print(f\"End of {epoch}, accuracy {acc}\")"
   ]
  },
  {
   "cell_type": "code",
   "execution_count": 7,
   "id": "451e5405-2f70-467b-b51d-245441633b83",
   "metadata": {
    "tags": []
   },
   "outputs": [
    {
     "name": "stdout",
     "output_type": "stream",
     "text": [
      "Accuracy: 0.70\n",
      "Accuracy: 0.68\n",
      "Accuracy: 0.60\n",
      "Accuracy: 0.59\n",
      "Accuracy: 0.64\n",
      "64.19% (+/- 4.47%)\n"
     ]
    }
   ],
   "source": [
    "import numpy as np\n",
    "import torch\n",
    "import torch.nn as nn\n",
    "import torch.optim as optim\n",
    "import tqdm\n",
    "from sklearn.model_selection import StratifiedKFold\n",
    "\n",
    "data = np.loadtxt(\"pima-indians-diabetes.csv\", delimiter=\",\")\n",
    "X = data[:, 0:8]\n",
    "y = data[:, 8]\n",
    "X = torch.tensor(X, dtype=torch.float32)\n",
    "y = torch.tensor(y, dtype=torch.float32).reshape(-1, 1)\n",
    "\n",
    "def model_train(X_train, y_train, X_test, y_test):\n",
    "    # create new model\n",
    "    model = nn.Sequential(\n",
    "        nn.Linear(8, 12),\n",
    "        nn.ReLU(),\n",
    "        nn.Linear(12, 8),\n",
    "        nn.ReLU(),\n",
    "        nn.Linear(8, 1),\n",
    "        nn.Sigmoid()\n",
    "    )\n",
    "\n",
    "    # loss function and optimizer\n",
    "    loss_fn = nn.BCELoss()  # binary cross entropy\n",
    "    optimizer = optim.Adam(model.parameters(), lr=0.0001)\n",
    "\n",
    "    n_epochs = 25    # number of epochs to run\n",
    "    batch_size = 10  # size of each batch\n",
    "    batches_per_epoch = len(X_train) // batch_size\n",
    "\n",
    "    for epoch in range(n_epochs):\n",
    "        with tqdm.trange(batches_per_epoch, unit=\"batch\", mininterval=0, disable=True\n",
    "                        ) as bar:\n",
    "            bar.set_description(f\"Epoch {epoch}\")\n",
    "            for i in bar:\n",
    "                # take a batch\n",
    "                start = i * batch_size\n",
    "                X_batch = X_train[start:start+batch_size]\n",
    "                y_batch = y_train[start:start+batch_size]\n",
    "                # forward pass\n",
    "                y_pred = model(X_batch)\n",
    "                loss = loss_fn(y_pred, y_batch)\n",
    "                # backward pass\n",
    "                optimizer.zero_grad()\n",
    "                loss.backward()\n",
    "                # update weights\n",
    "                optimizer.step()\n",
    "                # print progress\n",
    "                acc = (y_pred.round() == y_batch).float().mean()\n",
    "                bar.set_postfix(\n",
    "                    loss=float(loss),\n",
    "                    acc=float(acc)\n",
    "                )\n",
    "    # evaluate accuracy at end of training\n",
    "    y_pred = model(X_test)\n",
    "    acc = (y_pred.round() == y_test).float().mean()\n",
    "    return float(acc)\n",
    "\n",
    "# define 5-fold cross validation test harness\n",
    "kfold = StratifiedKFold(n_splits=5, shuffle=True)\n",
    "cv_scores = []\n",
    "for train, test in kfold.split(X, y):\n",
    "    # create model, train, and get accuracy\n",
    "    acc = model_train(X[train], y[train], X[test], y[test])\n",
    "    print(\"Accuracy: %.2f\" % acc)\n",
    "    cv_scores.append(acc)\n",
    "# evaluate the model\n",
    "print(\"%.2f%% (+/- %.2f%%)\" % (np.mean(cv_scores)*100, np.std(cv_scores)*100))"
   ]
  }
 ],
 "metadata": {
  "kernelspec": {
   "display_name": "Python 3 (ipykernel)",
   "language": "python",
   "name": "python3"
  },
  "language_info": {
   "codemirror_mode": {
    "name": "ipython",
    "version": 3
   },
   "file_extension": ".py",
   "mimetype": "text/x-python",
   "name": "python",
   "nbconvert_exporter": "python",
   "pygments_lexer": "ipython3",
   "version": "3.11.5"
  }
 },
 "nbformat": 4,
 "nbformat_minor": 5
}
