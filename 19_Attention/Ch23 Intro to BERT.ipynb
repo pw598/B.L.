{
 "cells": [
  {
   "cell_type": "code",
   "execution_count": null,
   "id": "42cc7e96-5e47-4cc6-b8a4-5271b32c3878",
   "metadata": {},
   "outputs": [],
   "source": [
    "from summarizer import Summarizer\n",
    "text = open(\"article.txt\").read()\n",
    "model = Summarizer('distilbert-base-uncased')\n",
    "result = model(text, num_sentences=3)\n",
    "print(result)"
   ]
  },
  {
   "cell_type": "code",
   "execution_count": null,
   "id": "6b760869-7583-4c8e-896b-e41182866495",
   "metadata": {
    "tags": []
   },
   "outputs": [],
   "source": [
    "from transformers import pipeline\n",
    "text = open(\"article.txt\").read()\n",
    "question = \"What is BOE doing?\"\n",
    "\n",
    "answering = pipeline(\"question-answering\",\n",
    "                     model='distilbert-base-uncased-distilled-squad')\n",
    "result = answering(question=question, context=text)\n",
    "print(result)"
   ]
  }
 ],
 "metadata": {
  "kernelspec": {
   "display_name": "Python 3 (ipykernel)",
   "language": "python",
   "name": "python3"
  },
  "language_info": {
   "codemirror_mode": {
    "name": "ipython",
    "version": 3
   },
   "file_extension": ".py",
   "mimetype": "text/x-python",
   "name": "python",
   "nbconvert_exporter": "python",
   "pygments_lexer": "ipython3",
   "version": "3.11.5"
  }
 },
 "nbformat": 4,
 "nbformat_minor": 5
}
