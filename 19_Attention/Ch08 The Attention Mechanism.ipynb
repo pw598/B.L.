{
 "cells": [
  {
   "cell_type": "code",
   "execution_count": 1,
   "id": "cda73a46-5384-40c8-a254-dfba4b447e18",
   "metadata": {},
   "outputs": [
    {
     "data": {
      "text/plain": [
       "(array([[0, 2, 0],\n",
       "        [0, 2, 2],\n",
       "        [0, 4, 2],\n",
       "        [0, 0, 2]]),\n",
       " array([[2, 1, 1],\n",
       "        [0, 2, 2],\n",
       "        [2, 3, 3],\n",
       "        [0, 1, 1]]),\n",
       " array([[0, 1, 1],\n",
       "        [0, 1, 1],\n",
       "        [0, 2, 2],\n",
       "        [1, 0, 0]]))"
      ]
     },
     "execution_count": 1,
     "metadata": {},
     "output_type": "execute_result"
    }
   ],
   "source": [
    "from numpy import array\n",
    "from numpy import random\n",
    "from numpy import dot\n",
    "from scipy.special import softmax\n",
    "\n",
    "# encoder representations of four different words\n",
    "word_1 = array([1, 0, 0])\n",
    "word_2 = array([0, 1, 0])\n",
    "word_3 = array([1, 1, 0])\n",
    "word_4 = array([0, 0, 1])\n",
    "\n",
    "# stacking the word embeddings into a single array\n",
    "words = array([word_1, word_2, word_3, word_4])\n",
    "\n",
    "# generating the weight matrices\n",
    "W_Q = random.randint(3, size=(3, 3))\n",
    "W_K = random.randint(3, size=(3, 3))\n",
    "W_V = random.randint(3, size=(3, 3))\n",
    "\n",
    "# generating the queries, keys and values\n",
    "Q = words @ W_Q\n",
    "K = words @ W_K\n",
    "V = words @ W_V\n",
    "\n",
    "Q, K, V"
   ]
  },
  {
   "cell_type": "code",
   "execution_count": 2,
   "id": "4ee8d07c-1c15-4c64-b200-a0ce7ee5fc60",
   "metadata": {
    "tags": []
   },
   "outputs": [
    {
     "data": {
      "text/plain": [
       "array([[ 2,  4,  6,  2],\n",
       "       [ 4,  8, 12,  4],\n",
       "       [ 6, 12, 18,  6],\n",
       "       [ 2,  4,  6,  2]])"
      ]
     },
     "execution_count": 2,
     "metadata": {},
     "output_type": "execute_result"
    }
   ],
   "source": [
    "# scoring the query vectors against all key vectors\n",
    "scores = Q @ K.transpose()\n",
    "scores"
   ]
  },
  {
   "cell_type": "code",
   "execution_count": 3,
   "id": "abcb248c-ac2a-4707-a94c-c3c746603732",
   "metadata": {
    "tags": []
   },
   "outputs": [
    {
     "data": {
      "text/plain": [
       "array([[6.56104878e-02, 2.08186871e-01, 6.60592153e-01, 6.56104878e-02],\n",
       "       [8.81516097e-03, 8.87545020e-02, 8.93615176e-01, 8.81516097e-03],\n",
       "       [9.48221252e-04, 3.02935312e-02, 9.67810026e-01, 9.48221252e-04],\n",
       "       [6.56104878e-02, 2.08186871e-01, 6.60592153e-01, 6.56104878e-02]])"
      ]
     },
     "execution_count": 3,
     "metadata": {},
     "output_type": "execute_result"
    }
   ],
   "source": [
    "# computing the weights by a softmax operation\n",
    "weights = softmax(scores / K.shape[1] ** 0.5, axis=1)\n",
    "weights"
   ]
  },
  {
   "cell_type": "code",
   "execution_count": 4,
   "id": "3fed929b-0439-49a6-a910-171c35d6f527",
   "metadata": {
    "tags": []
   },
   "outputs": [
    {
     "data": {
      "text/plain": [
       "array([[6.56104878e-02, 1.59498167e+00, 1.59498167e+00],\n",
       "       [8.81516097e-03, 1.88480002e+00, 1.88480002e+00],\n",
       "       [9.48221252e-04, 1.96686181e+00, 1.96686181e+00],\n",
       "       [6.56104878e-02, 1.59498167e+00, 1.59498167e+00]])"
      ]
     },
     "execution_count": 4,
     "metadata": {},
     "output_type": "execute_result"
    }
   ],
   "source": [
    "# computing the attention by a weighted sum of the value vectors\n",
    "attention = weights @ V\n",
    "attention"
   ]
  }
 ],
 "metadata": {
  "kernelspec": {
   "display_name": "Python 3 (ipykernel)",
   "language": "python",
   "name": "python3"
  },
  "language_info": {
   "codemirror_mode": {
    "name": "ipython",
    "version": 3
   },
   "file_extension": ".py",
   "mimetype": "text/x-python",
   "name": "python",
   "nbconvert_exporter": "python",
   "pygments_lexer": "ipython3",
   "version": "3.11.5"
  }
 },
 "nbformat": 4,
 "nbformat_minor": 5
}
